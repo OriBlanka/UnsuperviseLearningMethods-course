{
  "cells": [
    {
      "cell_type": "markdown",
      "metadata": {
        "id": "TgS52NKmzJDn"
      },
      "source": [
        "![](https://i.imgur.com/qkg2E2D.png)\n",
        "\n",
        "# UnSupervised Learning Methods\n",
        "\n",
        "## Exercise 001 - Part I\n",
        "\n",
        "> Notebook by:\n",
        "> - Royi Avital RoyiAvital@fixelalgorithms.com\n",
        "\n",
        "## Revision History\n",
        "\n",
        "| Version | Date       | User        |Content / Changes                                                   |\n",
        "|---------|------------|-------------|--------------------------------------------------------------------|\n",
        "| 1.0.000 | 15/08/2023 | Royi Avital | First version                                                      |"
      ]
    },
    {
      "cell_type": "markdown",
      "metadata": {
        "id": "By-RUaW9zJDq"
      },
      "source": [
        "[![Open In Colab](https://colab.research.google.com/assets/colab-badge.svg)](https://colab.research.google.com/github/FixelAlgorithmsTeam/FixelCourses/blob/master/UnSupervisedLearningMethods/2023_08/Exercise0001Part001.ipynb)"
      ]
    },
    {
      "cell_type": "markdown",
      "metadata": {
        "id": "HPvdY40lzJDr"
      },
      "source": [
        "## Notations\n",
        "\n",
        "* <font color='red'>(**?**)</font> Question to answer interactively.\n",
        "* <font color='blue'>(**!**)</font> Simple task to add code for the notebook.\n",
        "* <font color='green'>(**@**)</font> Optional / Extra self practice.\n",
        "* <font color='brown'>(**#**)</font> Note / Useful resource / Food for thought."
      ]
    },
    {
      "cell_type": "markdown",
      "metadata": {
        "id": "7F-xvfwhzJDr"
      },
      "source": [
        "## Guidelines\n",
        "\n",
        " - Fill the full names of the team memebers in the `Team Members` section.\n",
        " - Answer all questions within the Jupyter Notebook.\n",
        " - Open questions are in part I of the exercise.\n",
        " - Coding based questions are in the subsequent notebooks.\n",
        " - Use MarkDown + MathJaX + Code to answer.\n",
        " - Submission in groups (Single submission per group).\n",
        " - You may and _should_ use the forums for question.\n",
        " - Good Luck!"
      ]
    },
    {
      "cell_type": "markdown",
      "metadata": {
        "id": "25C90XjpzJDs"
      },
      "source": [
        "## Team Members\n",
        "\n",
        " - `<FULL>_<NAME>_<ID001>`.\n",
        " - `<FULL>_<NAME>_<ID002>`."
      ]
    },
    {
      "cell_type": "markdown",
      "metadata": {
        "id": "kgH-_QWxzJDs"
      },
      "source": [
        "## 0. Linear Algebra\n",
        "\n",
        "A matrix $ P $ is called an orthogonal projection operator if, and only if it is idempotent and symmetric.\n",
        "\n",
        "**Remark**: Idempotent matrix means $ \\forall n \\in \\mathcal{N} \\; {P}^{n} = P $.\n",
        "\n",
        "### 0.1. Question\n",
        "\n",
        "Let $A \\in \\mathbb{R}^{m \\times n}$ where $ m \\geq n $ and $ \\operatorname{Rank} \\left( A \\right) = n $.  \n",
        "Given the linear least squares problem:\n",
        "\n",
        "$$ \\arg \\min_{\\boldsymbol{x}} \\frac{1}{2} {\\left\\| A \\boldsymbol{x} - \\boldsymbol{y} \\right\\|}_{2}^{2} $$\n",
        "\n",
        "With the solution in the form $\\hat{\\boldsymbol{x}} = R \\boldsymbol{y}$, show that $P = A R$ is an orthogonal projection operator.\n",
        "\n",
        "**Hints**\n",
        "\n",
        "1. Derive the solution to the Least Squares above in the form of $ \\hat{\\boldsymbol{x}} = R \\boldsymbol{y} $.\n",
        "2. Show the $ P $ matrix is symmetric.\n",
        "3. Show the $ P $ matrix is idempotent.\n",
        "4. Conclude the matrix is an orthogonal projection operator.\n",
        "\n",
        "* <font color='brown'>(**#**)</font> The matrix $P$ is the Orthogonal Projection onto the range (Columns space) of $ A $."
      ]
    },
    {
      "cell_type": "markdown",
      "metadata": {
        "id": "Kg63tZTizJDs"
      },
      "source": [
        "### 0.1. Solution\n",
        "\n",
        "1.\\\n",
        "Similarly to what we show later in 2.5:\\\n",
        "$ f \\left( \\boldsymbol{x} \\right) = \\frac1 2{\\left\\| \\boldsymbol{A} \\boldsymbol{x} -\\boldsymbol{y}\\right\\|}_{2}^{2} = \\frac1 2\\left\\langle \\boldsymbol{A} \\boldsymbol{x} -\\boldsymbol{y}, \\boldsymbol{A} \\boldsymbol{x} -\\boldsymbol{y}\\right\\rangle$\n",
        "\n",
        "$\\nabla f \\left( \\boldsymbol{x} \\right) \\left[ \\boldsymbol{h} \\right]= \\nabla \\frac 1 2\\left\\langle \\boldsymbol{A} \\boldsymbol{x} -\\boldsymbol{y}, \\boldsymbol{A} \\boldsymbol{x} -\\boldsymbol{y}\\right\\rangle \\left[ \\boldsymbol{h} \\right]$\\\n",
        "(by product rule) = $ \\frac1 2\\left\\langle \\nabla(\\boldsymbol{A} \\boldsymbol{x} -\\boldsymbol{y})\\left[ \\boldsymbol{h} \\right], \\boldsymbol{A} \\boldsymbol{x} -\\boldsymbol{y}\\right\\rangle + \\frac1 2\\left\\langle \\boldsymbol{A} \\boldsymbol{x} -\\boldsymbol{y}, \\nabla(\\boldsymbol{A} \\boldsymbol{x} -\\boldsymbol{y})\\left[ \\boldsymbol{h} \\right]\\right\\rangle$\\\n",
        "(by linearity 2.2) = $ \\frac1 2\\left\\langle \\boldsymbol{A}\\boldsymbol{h}, \\boldsymbol{A} \\boldsymbol{x} - \\boldsymbol{y} \\right\\rangle + \\frac1 2\\left\\langle \\boldsymbol{A} \\boldsymbol{x} - \\boldsymbol{y}, \\boldsymbol{A}\\boldsymbol{h} \\right\\rangle=\n",
        "\\left\\langle \\boldsymbol{A} \\boldsymbol{x} - \\boldsymbol{y}, \\boldsymbol{A}\\boldsymbol{h} \\right\\rangle = \\left\\langle \\boldsymbol{A}^\\top(\\boldsymbol{A} \\boldsymbol{x} - \\boldsymbol{y}), \\boldsymbol{h} \\right\\rangle$\n",
        "\n",
        "$\\implies  \\nabla f \\left( \\boldsymbol{x} \\right) = \\boldsymbol{A}^\\top(\\boldsymbol{A} \\boldsymbol{x} - \\boldsymbol{y})$\n",
        "\n",
        "Since $\\boldsymbol{A}$ is rank $n$, $\\boldsymbol{A}^\\top\\boldsymbol{A}$ is an $n\\times n$ matrix of full rank $n$ and therefore invertible.\n",
        "\n",
        "$\\nabla f \\left( \\boldsymbol{x} \\right) \\stackrel{!}{=} 0 \\implies \\boldsymbol{A}^\\top(\\boldsymbol{A} \\boldsymbol{x} - \\boldsymbol{y}) = 0 \\implies \\hat{\\boldsymbol{x}} = (\\boldsymbol{A}^\\top\\boldsymbol{A})^{-1}\\boldsymbol{A}^\\top \\boldsymbol{y}$\\\n",
        "$\\boldsymbol{R} = (\\boldsymbol{A}^\\top\\boldsymbol{A})^{-1}\\boldsymbol{A}^\\top$ \\\n",
        "$\\boldsymbol{P} = \\boldsymbol{A}\\boldsymbol{R} = \\boldsymbol{A}(\\boldsymbol{A}^\\top\\boldsymbol{A})^{-1}\\boldsymbol{A}^\\top$ \\\n",
        "\n",
        "2.\\\n",
        "Lemma 2.1: $\\boldsymbol{B} = \\boldsymbol{A}^\\top\\boldsymbol{A}$ is symmetric.\\\n",
        "Proof: $\\boldsymbol{B}_{ij} = \\sum_k \\boldsymbol{A}^\\top_{ik}\\boldsymbol{A}_{kj} = \\sum_k \\boldsymbol{A}_{ki}\\boldsymbol{A}^\\top_{jk} = \\sum_k \\boldsymbol{A}^\\top_{jk}\\boldsymbol{A}_{ki} = \\boldsymbol{B}_{ji}$\n",
        "\n",
        "Lemma 2.2: The inverse of an invertible and symmetric matrix $\\boldsymbol{B}$ is symmetric\\\n",
        "Proof: $\\boldsymbol{B}^{-1}\\boldsymbol{B} = \\boldsymbol{B}\\boldsymbol{B}^{-1} = \\boldsymbol{I}$ and $\\boldsymbol{I}^\\top = \\boldsymbol{I}$.\\\n",
        "$\\implies \\boldsymbol{B}^{-1}\\boldsymbol{B} = (\\boldsymbol{B}\\boldsymbol{B}^{-1})^\\top = (\\boldsymbol{B}^{-1})^\\top \\boldsymbol{B}^\\top = (\\boldsymbol{B}^{-1})^\\top \\boldsymbol{B} \\implies \\boldsymbol{B}^{-1} = (\\boldsymbol{B}^{-1})^\\top$\n",
        "\n",
        "Therefore:\n",
        "\n",
        "\n",
        "$\\boldsymbol{P}^\\top = (\\boldsymbol{A}(\\boldsymbol{A}^\\top\\boldsymbol{A})^{-1}\\boldsymbol{A}^\\top)^\\top = \\boldsymbol{A}((\\boldsymbol{A}^\\top\\boldsymbol{A})^{-1})^\\top\\boldsymbol{A}^\\top = \\boldsymbol{A}(\\boldsymbol{A}^\\top\\boldsymbol{A})^{-1}\\boldsymbol{A}^\\top = \\boldsymbol{P}$\\\n",
        "$\\implies \\boldsymbol{P}$ is symmetric.\n",
        "\n",
        "3.\\\n",
        "$\\boldsymbol{P}^2 = (\\boldsymbol{A}(\\boldsymbol{A}^\\top\\boldsymbol{A})^{-1}\\boldsymbol{A}^\\top)^2 = \\boldsymbol{A}(\\boldsymbol{A}^\\top\\boldsymbol{A})^{-1}\\boldsymbol{A}^\\top\\boldsymbol{A}(\\boldsymbol{A}^\\top\\boldsymbol{A})^{-1}\\boldsymbol{A}^\\top = \\boldsymbol{A}\\stackrel{= \\boldsymbol{I}}{\\left[(\\boldsymbol{A}^\\top\\boldsymbol{A})^{-1}\\boldsymbol{A}^\\top\\boldsymbol{A}\\right](}\\boldsymbol{A}^\\top\\boldsymbol{A})^{-1}\\boldsymbol{A}^\\top = \\boldsymbol{A}(\\boldsymbol{A}^\\top\\boldsymbol{A})^{-1}\\boldsymbol{A}^\\top = \\boldsymbol{P}$\\\n",
        "By induction: assume $\\boldsymbol{P}^{n-1} = \\boldsymbol{P}$\\\n",
        "$\\implies \\boldsymbol{P}^{n} = \\boldsymbol{P}^{n-1}\\boldsymbol{P} = \\boldsymbol{P}\\boldsymbol{P} = \\boldsymbol{P}$\\\n",
        "$\\implies \\boldsymbol{P}$ is idempotent\n",
        "\n",
        "4.\\\n",
        "$\\boldsymbol{P}$ is symmetric and idempotent and therefore it is an orthogonal projection operator."
      ]
    },
    {
      "cell_type": "markdown",
      "metadata": {
        "id": "sEWsn8DEzJDt"
      },
      "source": [
        "An orthogonal projection $ \\boldsymbol{P} $ onto a sub space $ V $ obeys:\n",
        "\n",
        "1. $ \\forall \\boldsymbol{w} : \\boldsymbol{P} \\boldsymbol{w} \\in V $.\n",
        "2. $ \\boldsymbol{w} - \\boldsymbol{P} \\boldsymbol{w} \\in {V}^{\\bot} $.\n",
        "\n",
        "* <font color='brown'>(**#**)</font> If $ \\boldsymbol{v} \\in {V}, \\boldsymbol{u} \\in {V}^{\\bot} $ then $ \\left \\langle \\boldsymbol{u}, \\boldsymbol{v} \\right \\rangle = 0 $.\n",
        "\n",
        "The orthogonal projection onto the set $ \\left\\{ \\boldsymbol{x} \\mid \\boldsymbol{A} \\boldsymbol{x} = \\boldsymbol{b} \\right\\} $ is given by:\n",
        "\n",
        "$$ \\operatorname{Proj}_{ \\left\\{ \\boldsymbol{x} \\mid \\boldsymbol{A} \\boldsymbol{x} = \\boldsymbol{b} \\right\\} } \\left( \\boldsymbol{z} \\right) = \\boldsymbol{z} - \\boldsymbol{A}^{T} {\\left( \\boldsymbol{A} \\boldsymbol{A}^{T} \\right)}^{-1} \\left( \\boldsymbol{A} \\boldsymbol{z} - \\boldsymbol{b} \\right) $$\n",
        "\n",
        "### 0.2. Question  \n",
        "\n",
        "Prove or disprove: The above is orthogonal projection onto a sub space."
      ]
    },
    {
      "cell_type": "markdown",
      "metadata": {
        "id": "ar6LgkTLzJDt"
      },
      "source": [
        "### 0.2. Solution\n",
        "\n",
        "<font color='red'>??? Fill the answer here ???</font>\n",
        "\n",
        "---"
      ]
    },
    {
      "cell_type": "markdown",
      "metadata": {
        "id": "KFUnGJuFzJDu"
      },
      "source": [
        "## 1. Convexity\n",
        "\n",
        "**Convex Set**  \n",
        "\n",
        "Let:\n",
        "\n",
        "$$ \\mathbb{R}_{\\geq 0}^{d} = \\left\\{ \\boldsymbol{x} \\in\\mathbb{R}^{d} \\, \\bigg| \\, \\min_{i} {x}_{i} \\geq 0 \\right\\} $$\n",
        "\n",
        "Where $\\boldsymbol{x} = \\begin{bmatrix} {x}_{1} \\\\ {x}_{2} \\\\ \\vdots \\\\ {x}_{d} \\end{bmatrix}$\n",
        "\n",
        "### 1.1. Question\n",
        "\n",
        "Prove or disprove that $\\mathbb{R}_{\\geq 0}^{d}$ is convex."
      ]
    },
    {
      "cell_type": "markdown",
      "metadata": {
        "id": "-nkloZcjzJDu"
      },
      "source": [
        "### 1.1. Solution\n",
        "\n",
        "Let $ x, y \\in \\mathbb{R}_{\\geq 0}^{d},   \\alpha \\in [0, 1]. $\n",
        "$ \\min_{i} {x}_{i} \\geq 0 $ and $ \\min_{i} {y}_{i} \\geq 0. $ Hence\n",
        "$ ∀i: x_{i} \\geq 0 , y_{i} \\geq 0$\n",
        "\n",
        "See the convex combination $ αx + (1-α)y $\n",
        "$ \\forall{i} $ it holds:\n",
        "$ a \\geq 0  → a{x}_{i} \\geq 0 $\n",
        "$ (1-α) \\geq 0  → (1-α)y_{i} \\geq 0 $\n",
        "Therefore:\n",
        "$ ax_{i} + (1-α)y_{i} \\geq 0 $\n",
        "So $ \\min_{i} ax_{i} + (1-α)y_{i} \\geq 0$ and\n",
        "$ ax + (1-α)y\\in \\mathbb{R}_{\\geq 0}^{d} $\n",
        "so $ \\mathbb{R}_{\\geq 0}^{d} $ is convex.\n",
        "\n",
        "---"
      ]
    },
    {
      "cell_type": "markdown",
      "metadata": {
        "id": "t0ZbGTnHzJDu"
      },
      "source": [
        "**Convex Combination**\n",
        "\n",
        "Let $\\mathcal{C} \\subseteq \\mathbb{R}^{d} $ be a convex set and consider $\\left\\{ \\boldsymbol{x}_{i} \\in \\mathcal{C} \\right\\} _{i=1}^{N}$.\n",
        "\n",
        "### 1.2. Question\n",
        "\n",
        "Prove that for any $N \\in \\mathbb{N}$:\n",
        "\n",
        "$$ \\sum_{i = 1}^{N} {\\alpha}_{i} \\boldsymbol{x}_{i} \\in \\mathcal{C} $$\n",
        "\n",
        "Where $\\alpha_{i}$ are such that:\n",
        "\n",
        " - $\\forall i, \\; \\alpha_{i} \\geq 0$.\n",
        " - $\\sum_{i = 1}^{N} \\alpha_{i} = 1$.\n",
        "\n",
        "* <font color='brown'>(**#**)</font> The properties of ${\\alpha}_{i}$ above means it is sampled from the Unit Probability Simplex.\n"
      ]
    },
    {
      "cell_type": "markdown",
      "metadata": {
        "id": "W5jBccATzJDu"
      },
      "source": [
        "### 1.2. Solution\n",
        "\n",
        "Assume that for N-1: $$ \\sum_{i = 1}^{N-1} {\\alpha}_{i} \\boldsymbol{x}_{i} \\in \\mathcal{C} $$\n",
        "\n",
        "Where $\\alpha_{i}$ are such that:\n",
        "\n",
        " - $\\forall i, \\; \\alpha_{i} \\geq 0$.\n",
        " - $\\sum_{i = 1}^{N-1} \\alpha_{i} = 1$.\n",
        "\n",
        " Let's now consider $ \\boldsymbol{x}_{n} \\in \\mathcal{C} $ with the combination:\n",
        "$$ \\sum_{i = 1}^{N-1} {\\beta}_{i} \\boldsymbol{x}_{i} + \\beta_{n}\\boldsymbol{x}_{n} $$\n",
        "Where $\\beta{i}$ are such that:\n",
        "\n",
        " - $\\forall i, \\; \\beta{i} \\geq 0$.\n",
        " - $\\sum_{i = 1}^{N} \\beta_{i} = 1$.\n",
        "\n",
        " We can infer that:\n",
        "$$ \\sum_{i = 1}^{N-1} {\\beta}_{i} \\boldsymbol{x}_{i} + \\beta_{n}\\boldsymbol{x}_{n} = ({\\sum_{j = 1}^{N-1} {\\beta}_{j}})\\sum_{i = 1}^{N-1} \\frac{{\\beta}_{i}}{(\\sum_{j = 1}^{N-1} {\\beta}_{j})} \\boldsymbol{x}_{i} + \\beta_{n}\\boldsymbol{x}_{n} $$\n",
        "Let's mark $ K =  \\sum_{j = 1}^{N-1} {\\beta}_{j}$.   See the combination $ \\sum_{i = 1}^{N-1} {\\frac{\\beta_{i}}{K}\\boldsymbol{x}_{i}} $:\n",
        " - $\\forall i, \\; \\frac{\\beta_{i}}{K} \\geq 0$.\n",
        " - $\\sum_{i = 1}^{N-1} \\frac{\\beta_{i}}{K} = \\frac{1}{K}\\sum_{i = 1}^{N-1} \\beta_{i} = 1$.\n",
        "\n",
        " Hence, by the induction assumption we know that $ \\sum_{i = 1}^{N-1} \\frac{{\\beta}_{i}}{K} \\boldsymbol{x}_{i} \\in \\mathcal{C} $. Let's mark $ \\sum_{i = 1}^{N-1} \\frac{{\\beta}_{i}}{K} \\boldsymbol{x}_{i} = \\boldsymbol{z} \\in \\mathcal{C} $\n",
        "\n",
        "Therefore:\n",
        "\n",
        "$$ \\sum_{i = 1}^{N-1} {\\beta}_{i} \\boldsymbol{x}_{i} + \\beta_{n}\\boldsymbol{x}_{n} = ({\\sum_{j = 1}^{N-1} {\\beta}_{j}})\\sum_{i = 1}^{N-1} \\frac{{\\beta}_{i}}{(\\sum_{j = 1}^{N-1} {\\beta}_{j})} \\boldsymbol{x}_{i} + \\beta_{n}\\boldsymbol{x}_{n} = K\\boldsymbol{z} + \\beta_{n}\\boldsymbol{x}_{n}.$$\n",
        "\n",
        "We know that $ K + \\beta_{n} = \\sum_{j = 1}^{N-1} {\\beta}_{j} + \\beta_{n} = \\sum_{j = 1}^{N} {\\beta}_{j} = 1$, having that $K \\geq 0$ , $ \\beta_{n} \\geq 0$ and $ z, \\boldsymbol{x}_{n} \\in \\mathcal{C}$ we can conclude $ K\\boldsymbol{z} + \\beta_{n}\\boldsymbol{x}_{n} \\in \\mathcal{C}$\n"
      ]
    },
    {
      "cell_type": "markdown",
      "metadata": {
        "id": "gs2F2Pe2zJDu"
      },
      "source": [
        "Let $\\mathcal{C}\\subset\\mathbb{R}^{2}$ be a convex set.  \n",
        "Consider $\\left\\{ \\boldsymbol{x}_{i} \\in \\mathcal{C} \\right\\}_{i=1}^{10}$ such that $\\boldsymbol{x}_{i} \\neq \\boldsymbol{x}_{j}$ for all $i \\neq j$."
      ]
    },
    {
      "cell_type": "markdown",
      "metadata": {
        "id": "IoikbfphzJDu"
      },
      "source": [
        "### 1.3. Question\n",
        "\n",
        "Prove or disprove the following assertion:\n",
        "\n",
        "Necessarily, any point $\\boldsymbol{y} \\in \\mathcal{C}$ can be represented as a convex combination of $\\left\\{ \\boldsymbol{x}_{i} \\right\\}_{i = 1}^{10}$."
      ]
    },
    {
      "cell_type": "markdown",
      "metadata": {
        "id": "t7EgNiukzJDv"
      },
      "source": [
        "### 1.3. Solution\n",
        "\n",
        "**Disprove by counter example**\n",
        "\n",
        "Let $\\mathcal{C}\\subset\\mathbb{R}^{2}$ be the convex square defined by the vectors ${(0,0), (0,1), (1,0), (1,1)}$\\\n",
        "It is easy to show this square is a convex set since:\n",
        "- For all vectors $(x_1,x_2) \\in \\mathcal{C} \\quad  0 \\leq x_1, x_2 \\leq 1$\n",
        "- For two vector addition $(x_1, x_2), (y_1, y_2)$ and $\\alpha \\in [0,1]$:\n",
        " - $0 \\leq \\alpha x_{1} + (1-\\alpha)y_{1} \\leq \\alpha + (1-\\alpha) = 1$\n",
        " - $0 \\leq \\alpha x_{2} + (1-\\alpha)y_{2} \\leq \\alpha + (1-\\alpha) = 1$\n",
        "\n",
        "Consider $\\left\\{ \\boldsymbol{x}_{i} \\in \\mathcal{C} \\right\\}_{i=1}^{10} = \\left\\{(0, 0.1*i) \\right\\}_{i=1}^{10} = \\left\\{(0,0.1), (0,0.2) \\dots (0,1) \\right\\}$\\\n",
        "complying to $\\boldsymbol{x}_{i} \\neq \\boldsymbol{x}_{j}$ for all $i \\neq j$\n",
        "\n",
        "The point $(1,0) \\in \\mathcal{C}$ obviously cannot be represented as a convex combination of $\\left\\{ \\boldsymbol{x}_{i} \\in \\mathcal{C} \\right\\}_{i=1}^{10}$ since the first coordinate in the convex combination of the chosen $\\left\\{ \\boldsymbol{x}_{i} \\in \\mathcal{C} \\right\\}_{i=1}^{10}$ can only be 0."
      ]
    },
    {
      "cell_type": "code",
      "source": [
        "import matplotlib.pyplot as plt\n",
        "import matplotlib.patches as patches\n",
        "\n",
        "fig, ax = plt.subplots(figsize=(4, 3))\n",
        "\n",
        "polygon = patches.Polygon([(0, 0), (0, 1), (1, 1), (1, 0)], closed=True, edgecolor='b', facecolor='none')\n",
        "ax.add_patch(polygon)\n",
        "\n",
        "for i in range(10):\n",
        "    ax.add_patch(plt.Circle((0.1 * (i + 1), 0), radius=0.05, color='g'))\n",
        "\n",
        "ax.add_patch(plt.Circle((0, 1), radius=0.05, color='r'))\n",
        "\n",
        "ax.set_xlim(-0.1, 1.1)\n",
        "ax.set_ylim(-0.1, 1.1)\n",
        "ax.set_aspect('equal', 'box')\n",
        "\n",
        "plt.show()\n"
      ],
      "metadata": {
        "colab": {
          "base_uri": "https://localhost:8080/",
          "height": 291
        },
        "id": "Ln0hGDoa0rcS",
        "outputId": "c1cbaa6a-86a6-4e02-829f-db2f4bb6cced"
      },
      "execution_count": 2,
      "outputs": [
        {
          "output_type": "display_data",
          "data": {
            "text/plain": [
              "<Figure size 400x300 with 1 Axes>"
            ],
            "image/png": "[encoded data removed]"
          },
          "metadata": {}
        }
      ]
    },
    {
      "cell_type": "markdown",
      "metadata": {
        "id": "b_9OrJ6UzJDv"
      },
      "source": [
        "## 2. The Gradient\n",
        "\n",
        "**Remark**: Assume all functions in this section are differentiable.\n",
        "\n",
        "\n",
        "**Directional Derivative**\n",
        "\n",
        "Let $f : \\mathbb{R}^{d} \\to \\mathbb{R}$ and let $\\boldsymbol{x}_{0} \\in \\mathbb{R}^{d}$.\n",
        "\n",
        "### 2.1. Question\n",
        "\n",
        "Prove that:\n",
        "\n",
        "$$ \\forall \\boldsymbol{h} \\in \\mathbb{R}^{d}: \\nabla f \\left( \\boldsymbol{x}_{0} \\right) \\left[ \\boldsymbol{h} \\right] = \\left\\langle \\boldsymbol{g}_{0}, \\boldsymbol{h} \\right\\rangle \\implies \\boldsymbol{g}_{0} = \\nabla f \\left( \\boldsymbol{x}_{0} \\right) $$"
      ]
    },
    {
      "cell_type": "markdown",
      "metadata": {
        "id": "ZmMV8RWLzJDv"
      },
      "source": [
        "### 2.1. Solution\n",
        "\n",
        "$\\nabla f \\left( \\boldsymbol{x} \\right) \\left[ \\boldsymbol{h} \\right] \\equiv \\lim_{t→0} \\frac{f \\left( \\boldsymbol{x} + t\\boldsymbol{h} \\right) - f \\left( \\boldsymbol{x} \\right)}{t}$\n",
        "\n",
        "By Taylor expansion around $\\boldsymbol{x}$ for small $t$:\\\n",
        "$ f \\left( \\boldsymbol{x} + t\\boldsymbol{h} \\right) = f \\left( \\boldsymbol{x} \\right) + (\\nabla f \\left( \\boldsymbol{x} \\right))^{\\top} t\\boldsymbol{h} + O(t^2)$\\\n",
        "Therefore:\\\n",
        "$\\nabla f \\left( \\boldsymbol{x} \\right) \\left[ \\boldsymbol{h} \\right] \\equiv \\lim_{t→0} \\frac{f \\left( \\boldsymbol{x} + t\\boldsymbol{h} \\right) - f \\left( \\boldsymbol{x} \\right)}{t} = \\lim_{t→0} \\frac{f \\left( \\boldsymbol{x} \\right) + (\\nabla f \\left( \\boldsymbol{x} \\right))^{\\top} t\\boldsymbol{h} + O(t^2) - f \\left( \\boldsymbol{x} \\right)}{t} = \\lim_{t→0} \\frac{t(\\nabla f \\left( \\boldsymbol{x} \\right))^{\\top} \\boldsymbol{h} + O(t^2)}{t} = (\\nabla f \\left( \\boldsymbol{x} \\right))^{\\top} \\boldsymbol{h} = \\left\\langle \\nabla f \\left( \\boldsymbol{x} \\right), \\boldsymbol{h} \\right\\rangle$\n",
        "$\\forall \\boldsymbol{h} \\in \\mathbb{R}^{d}: \\nabla f \\left( \\boldsymbol{x}_{0} \\right) \\left[ \\boldsymbol{h} \\right] = \\left\\langle \\boldsymbol{g}_{0}, \\boldsymbol{h} \\right\\rangle \\implies \\forall \\boldsymbol{h} \\in \\mathbb{R}^{d}: \\left\\langle \\nabla f \\left( \\boldsymbol{x} \\right), \\boldsymbol{h} \\right\\rangle = \\left\\langle \\boldsymbol{g}_{0}, \\boldsymbol{h} \\right\\rangle$\n",
        "$\\implies \\forall \\boldsymbol{h} \\in \\mathbb{R}^{d}: \\left\\langle \\nabla f \\left( \\boldsymbol{x} \\right) - \\boldsymbol{g}_{0}, \\boldsymbol{h} \\right\\rangle = 0$\\\n",
        "$\\implies \\nabla f \\left( \\boldsymbol{x} \\right) - \\boldsymbol{g}_{0} = \\boldsymbol{0} \\quad$(the 0 vector\\operator)\n",
        "\n",
        "The last step is trivial. An easy proof is to calculate $\\left\\langle \\nabla f \\left( \\boldsymbol{x} \\right) - \\boldsymbol{g}_{0}, \\boldsymbol{h} \\right\\rangle$ with $d$ different vectors $\\{\\boldsymbol{h}_1, \\boldsymbol{h}_2, ... \\boldsymbol{h}_d\\}$, where $\\boldsymbol{h}_i$ is the one-hot vector with all $0$ but $1$ in the $i^{th}$ position. Since all dot products are $0$ we will find that all components $(\\nabla f \\left( \\boldsymbol{x} \\right) - \\boldsymbol{g}_{0})_i$ are 0.\n",
        "\n",
        "$\\implies \\boldsymbol{g}_{0} = \\nabla f \\left( \\boldsymbol{x} \\right)$"
      ]
    },
    {
      "cell_type": "markdown",
      "metadata": {
        "id": "jaC0SgTPzJDv"
      },
      "source": [
        "**Definition**\n",
        "\n",
        "$f : \\mathbb{R}^{{d}_{1}} \\to \\mathbb{R}^{{d}_{2}}$ is said to be **linear** if:\n",
        "\n",
        "$$ f \\left( \\alpha \\boldsymbol{x} + \\beta \\boldsymbol{y} \\right) = \\alpha f \\left( \\boldsymbol{x} \\right) + \\beta f \\left( \\boldsymbol{y} \\right) $$\n",
        "\n",
        "For all $\\alpha, \\beta \\in \\mathbb{R}$ and for all $\\boldsymbol{x}, \\boldsymbol{y} \\in \\mathbb{R}^{{d}_{1}}$.\n",
        "\n",
        "\n",
        "\n",
        "Let $f : \\mathbb{R}^{{d}_{1}} \\to \\mathbb{R}^{{d}_{2}}$ be a linear function.\n",
        "\n",
        "### 2.2. Question\n",
        "\n",
        "Prove that:\n",
        "\n",
        "$$ \\nabla f \\left( \\boldsymbol{x} \\right) \\left[ \\boldsymbol{h} \\right] = f \\left( \\boldsymbol{h} \\right) $$\n",
        "\n",
        "For all $\\boldsymbol{x}, \\boldsymbol{h} \\in \\mathbb{R}^{{d}_{1}}$."
      ]
    },
    {
      "cell_type": "markdown",
      "metadata": {
        "id": "yqM9Xzq5zJDv"
      },
      "source": [
        "### 2.2. Solution\n",
        "\n",
        "From linearity: $f \\left( \\boldsymbol{x} + t\\boldsymbol{h} \\right) = f \\left( \\boldsymbol{x} \\right)+ t f\\left(\\boldsymbol{h} \\right)$\\\n",
        "For all $\\boldsymbol{x}, \\boldsymbol{h} \\in \\mathbb{R}^{{d}_{1}}$, $t \\in \\mathbb{R}$\\\n",
        "$⇒ \\nabla f \\left( \\boldsymbol{x} \\right) \\left[ \\boldsymbol{h} \\right] \\equiv \\lim_{t→0} \\frac{f \\left( \\boldsymbol{x} + t\\boldsymbol{h} \\right) - f \\left( \\boldsymbol{x} \\right)}{t} = \\lim_{t→0} \\frac{f \\left( \\boldsymbol{x} \\right)+ t f\\left(\\boldsymbol{h} \\right) - f \\left( \\boldsymbol{x} \\right)}{t} = \\lim_{t→0} f\\left(\\boldsymbol{h} \\right) = f\\left(\\boldsymbol{h} \\right)$"
      ]
    },
    {
      "cell_type": "markdown",
      "metadata": {
        "id": "vWHWAcYxzJDv"
      },
      "source": [
        "### 2.3. Question\n",
        "\n",
        "Compute the directional derivative $\\nabla f \\left( \\boldsymbol{x} \\right) \\left[ \\boldsymbol{h} \\right]$ and the gradient $\\nabla f \\left( \\boldsymbol{x} \\right)$ of:\n",
        "\n",
        "$$ f \\left( \\boldsymbol{x} \\right) = \\boldsymbol{x}^{T} \\boldsymbol{A} \\boldsymbol{x} $$\n",
        "\n"
      ]
    },
    {
      "cell_type": "markdown",
      "metadata": {
        "id": "PUJ_AHPKzJDv"
      },
      "source": [
        "### 2.3. Solution\n",
        "\n",
        "We can write $ f $ as: $ f(x) = \\left\\langle \\boldsymbol{x}, \\boldsymbol{A}\\boldsymbol{x} \\right\\rangle $ . Using the product rule we get:\n",
        "$$  \\nabla f \\left( \\boldsymbol{x} \\right) \\left[ \\boldsymbol{h} \\right] =  \\nabla \\left\\langle \\boldsymbol{x}, \\boldsymbol{A}\\boldsymbol{x} \\right\\rangle \\left[ \\boldsymbol{h} \\right] = \\left\\langle \\boldsymbol{h}, \\boldsymbol{A}\\boldsymbol{x} \\right\\rangle + \\left\\langle \\boldsymbol{x}, \\boldsymbol{A}\\boldsymbol{h} \\right\\rangle = \\left\\langle \\boldsymbol{h}, \\boldsymbol{A}\\boldsymbol{x} + \\boldsymbol{A}^T\\boldsymbol{x}\\right\\rangle $$\n",
        "\n",
        "and therefore:\n",
        "$$  \\nabla f \\left( \\boldsymbol{x} \\right) = \\boldsymbol{A}\\boldsymbol{x} + \\boldsymbol{A}^T\\boldsymbol{x} $$\n",
        "\n",
        "---"
      ]
    },
    {
      "cell_type": "markdown",
      "metadata": {
        "id": "lCoiWcMozJDw"
      },
      "source": [
        "### 2.4. Question\n",
        "\n",
        "Compute the directional derivative $\\nabla f \\left( X \\right) \\left[ \\boldsymbol{H} \\right]$ and the gradient $\\nabla f \\left( X \\right)$ of:\n",
        "\n",
        "$$ f \\left( \\boldsymbol{X} \\right) = \\operatorname{Tr} \\left\\{ \\boldsymbol{X}^{T} \\boldsymbol{A} \\boldsymbol{X} \\right\\} $$\n",
        "\n"
      ]
    },
    {
      "cell_type": "markdown",
      "metadata": {
        "id": "ax8_2t4NzJDw"
      },
      "source": [
        "### 2.4. Solution\n",
        "\n",
        "Compute the directional derivative $\\nabla f \\left( \\boldsymbol{x} \\right) \\left[ \\boldsymbol{h} \\right]$ and the gradient $\\nabla f \\left( \\boldsymbol{x} \\right)$ of:\n",
        "\n",
        "$$ f \\left( \\boldsymbol{x} \\right) = {\\left\\| \\boldsymbol{y} - \\boldsymbol{A} \\boldsymbol{x} \\right\\|}_{2}^{2} $$"
      ]
    },
    {
      "cell_type": "markdown",
      "metadata": {
        "id": "X7w5Tqj0zJDw"
      },
      "source": [
        "### 2.5. Question\n",
        "\n",
        "Compute the directional derivative $\\nabla f \\left( \\boldsymbol{x} \\right) \\left[ \\boldsymbol{h} \\right]$ and the gradient $\\nabla f \\left( \\boldsymbol{x} \\right)$ of:\n",
        "\n",
        "$$ f \\left( \\boldsymbol{x} \\right) = {\\left\\| \\boldsymbol{y} - \\boldsymbol{A} \\boldsymbol{x} \\right\\|}_{2}^{2} $$\n",
        "\n"
      ]
    },
    {
      "cell_type": "markdown",
      "metadata": {
        "id": "z-Pzp9NvzJDw"
      },
      "source": [
        "### 2.5. Solution\n",
        "\n",
        "$ f \\left( \\boldsymbol{x} \\right) = {\\left\\| \\boldsymbol{y} - \\boldsymbol{A} \\boldsymbol{x} \\right\\|}_{2}^{2} = \\left\\langle \\boldsymbol{y} - \\boldsymbol{A} \\boldsymbol{x}, \\boldsymbol{y} - \\boldsymbol{A} \\boldsymbol{x}\\right\\rangle$\n",
        "\n",
        "$\\nabla f \\left( \\boldsymbol{x} \\right) \\left[ \\boldsymbol{h} \\right]= \\nabla\\left\\langle \\boldsymbol{y} - \\boldsymbol{A} \\boldsymbol{x}, \\boldsymbol{y} - \\boldsymbol{A} \\boldsymbol{x}\\right\\rangle \\left[ \\boldsymbol{h} \\right]$\\\n",
        "(by product rule) = $ \\left\\langle \\nabla(\\boldsymbol{y} - \\boldsymbol{A} \\boldsymbol{x})\\left[ \\boldsymbol{h} \\right], \\boldsymbol{y} - \\boldsymbol{A} \\boldsymbol{x}\\right\\rangle + \\left\\langle \\boldsymbol{y} - \\boldsymbol{A} \\boldsymbol{x}, \\nabla(\\boldsymbol{y} - \\boldsymbol{A} \\boldsymbol{x})\\left[ \\boldsymbol{h} \\right]\\right\\rangle$\\\n",
        "(by linearity 2.2) = $ \\left\\langle -\\boldsymbol{A}\\boldsymbol{h}, \\boldsymbol{y} - \\boldsymbol{A} \\boldsymbol{x}\\right\\rangle + \\left\\langle \\boldsymbol{y} - \\boldsymbol{A} \\boldsymbol{x}, -\\boldsymbol{A}\\boldsymbol{h}\\right\\rangle=\n",
        "-2\\left\\langle \\boldsymbol{y} - \\boldsymbol{A} \\boldsymbol{x}, \\boldsymbol{A}\\boldsymbol{h}\\right\\rangle = -2\\left\\langle \\boldsymbol{A}^\\top(\\boldsymbol{y} - \\boldsymbol{A} \\boldsymbol{x}), \\boldsymbol{h}\\right\\rangle$\n",
        "\n",
        "$\\implies  \\nabla f \\left( \\boldsymbol{x} \\right) = -2\\boldsymbol{A}^\\top(\\boldsymbol{y} - \\boldsymbol{A} \\boldsymbol{x})$"
      ]
    },
    {
      "cell_type": "markdown",
      "metadata": {
        "id": "jLk9oODlzJDw"
      },
      "source": [
        "### 2.6. Question\n",
        "\n",
        "Compute the directional derivative $\\nabla f \\left( X \\right) \\left[ H \\right]$ and the gradient $\\nabla f \\left( X \\right)$ of:\n",
        "\n",
        "$$ f \\left( \\boldsymbol{X} \\right) = {\\left\\| \\boldsymbol{Y} - \\boldsymbol{A} \\boldsymbol{X} \\right\\|}_{F}^{2} $$\n",
        "\n",
        "Where:\n",
        "\n",
        " - $\\boldsymbol{Y} \\in \\mathbb{R}^{D \\times N}$, $\\boldsymbol{A} \\in \\mathbb{R}^{D \\times d}$ and $\\boldsymbol{X} \\in \\mathbb{R}^{d \\times N}$.\n",
        " - ${\\left\\| \\cdot \\right\\|}_{F}^{2}$ is the squared [Frobenius Norm](https://en.wikipedia.org/wiki/Matrix_norm#Frobenius_norm), that is, ${\\left\\| \\boldsymbol{X} \\right\\|}_{F}^{2} = \\left\\langle \\boldsymbol{X}, \\boldsymbol{X} \\right\\rangle = \\operatorname{Tr} \\left\\{ \\boldsymbol{X}^{T} \\boldsymbol{X} \\right\\}$.\n",
        "\n"
      ]
    },
    {
      "cell_type": "markdown",
      "metadata": {
        "id": "-J4MU1X_zJDw"
      },
      "source": [
        "### 2.6. Solution\n",
        "\n",
        "$ f \\left( \\boldsymbol{X} \\right) = {\\left\\| \\boldsymbol{Y} - \\boldsymbol{A} \\boldsymbol{X} \\right\\|}_{F}^{2} = \\left\\langle \\boldsymbol{Y} - \\boldsymbol{A} \\boldsymbol{X}, \\boldsymbol{Y} - \\boldsymbol{A} \\boldsymbol{X}\\right\\rangle$\n",
        "\n",
        "$\\nabla f \\left( \\boldsymbol{X} \\right) \\left[ \\boldsymbol{H} \\right]= \\nabla\\left\\langle \\boldsymbol{Y} - \\boldsymbol{A} \\boldsymbol{X}, \\boldsymbol{Y} - \\boldsymbol{A} \\boldsymbol{X}\\right\\rangle \\left[ \\boldsymbol{H} \\right]$\\\n",
        "(by product rule) = $ \\left\\langle \\nabla(\\boldsymbol{Y} - \\boldsymbol{A} \\boldsymbol{X})\\left[ \\boldsymbol{H} \\right], \\boldsymbol{Y} - \\boldsymbol{A} \\boldsymbol{X}\\right\\rangle + \\left\\langle \\boldsymbol{Y} - \\boldsymbol{A} \\boldsymbol{X}, \\nabla(\\boldsymbol{Y} - \\boldsymbol{A} \\boldsymbol{X})\\left[ \\boldsymbol{H} \\right]\\right\\rangle$\\\n",
        "(by linearity 2.2) = $ \\left\\langle -\\boldsymbol{A}\\boldsymbol{H}, \\boldsymbol{Y} - \\boldsymbol{A} \\boldsymbol{X}\\right\\rangle + \\left\\langle \\boldsymbol{Y} - \\boldsymbol{A} \\boldsymbol{X}, -\\boldsymbol{A}\\boldsymbol{H}\\right\\rangle=\n",
        "-2\\left\\langle \\boldsymbol{Y} - \\boldsymbol{A} \\boldsymbol{X}, \\boldsymbol{A}\\boldsymbol{H}\\right\\rangle = -2\\operatorname{Tr} \\left\\{(\\boldsymbol{Y} - \\boldsymbol{A} \\boldsymbol{X})^\\top\\boldsymbol{A}\\boldsymbol{H}\\right\\} = -2\\left\\langle \\boldsymbol{A}^\\top(\\boldsymbol{Y} - \\boldsymbol{A} \\boldsymbol{X}), \\boldsymbol{H}\\right\\rangle$\n",
        "\n",
        "$\\implies  \\nabla f \\left( \\boldsymbol{X} \\right) = -2\\boldsymbol{A}^\\top(\\boldsymbol{Y} - \\boldsymbol{A} \\boldsymbol{X})$"
      ]
    },
    {
      "cell_type": "markdown",
      "metadata": {
        "id": "fEZ1mUvxzJDw"
      },
      "source": [
        "### 2.7. Question\n",
        "\n",
        "Compute the directional derivative $\\nabla f \\left( X \\right) \\left[ H \\right]$ and the gradient $\\nabla f \\left( X \\right)$ of:\n",
        "\n",
        "$$ f \\left( \\boldsymbol{X} \\right) = \\left\\langle \\boldsymbol{X}^{T} \\boldsymbol{A}, \\boldsymbol{Y}^{T} \\right\\rangle $$\n",
        "\n",
        "Where $\\boldsymbol{Y} \\in \\mathbb{R}^{D \\times N}$, $\\boldsymbol{A} \\in \\mathbb{R}^{d \\times D}$ and $\\boldsymbol{X} \\in \\mathbb{R}^{d \\times N}$."
      ]
    },
    {
      "cell_type": "markdown",
      "metadata": {
        "id": "biOIcpRfzJDw"
      },
      "source": [
        "### 2.7. Solution\n",
        "\n",
        "First, let's present $ f $ in a different way. We consider here the inner product to be the standart matrix inner product: $ \\left\\langle \\boldsymbol{A}, \\boldsymbol{B} \\right\\rangle =  \\operatorname{Tr} \\left\\{ \\boldsymbol{A}^{T} \\boldsymbol{B} \\right\\} $ .\n",
        "We have:\n",
        "$$  f \\left( \\boldsymbol{X} \\right) =_1 \\left\\langle \\boldsymbol{X}^{T} \\boldsymbol{A}, \\boldsymbol{Y}^{T} \\right\\rangle =_2 \\left\\langle \\boldsymbol{Y}^{T} , \\boldsymbol{X}^{T} \\boldsymbol{A} \\right\\rangle =_3 \\operatorname{Tr} \\left\\{ \\boldsymbol{Y} \\boldsymbol{X}^{T} \\boldsymbol{A} \\right\\} =_4  \\operatorname{Tr} \\left\\{ \\boldsymbol{Y}^{T} \\boldsymbol{A}^{T} \\boldsymbol{X} \\right\\} =_5  \\left\\langle \\boldsymbol{A} \\boldsymbol{Y}, \\boldsymbol{X} \\right\\rangle $$\n",
        "\n",
        "where equation 1 is given, equation 2 is true because we are over the field $ \\mathbb{R} $ , equations 3 and 5 are from the inner product definition and equation 4 is true as we saw in class:\n",
        "$$ \\operatorname{Tr} \\left\\{ \\boldsymbol{C}^T \\boldsymbol{D} \\right\\} =\\operatorname{Tr} \\left\\{ \\boldsymbol{C} \\boldsymbol{D}^T \\right\\} $$ for matrices $ \\boldsymbol{C} $ and $ \\boldsymbol{D} $ of the same dimensions, where here: $ \\boldsymbol{C} = \\boldsymbol{Y}^T $ and $ \\boldsymbol{D} = \\boldsymbol{X}^T \\boldsymbol{A} $ .\n",
        "\n",
        "Before we finish we note that the derivative and every directional derivative of a constant function is zero. We use the product rule and we get:\n",
        "\n",
        "$$ \\nabla f \\left( \\boldsymbol{X} \\right) \\left[ \\boldsymbol{H} \\right] = \\nabla \\left\\langle \\boldsymbol{A} \\boldsymbol{Y}, \\boldsymbol{X} \\right\\rangle \\left[ \\boldsymbol{H} \\right] = \\left\\langle 0, \\boldsymbol{X} \\right\\rangle + \\left\\langle \\boldsymbol{A} \\boldsymbol{Y}, \\boldsymbol{H} \\right\\rangle = \\left\\langle \\boldsymbol{A} \\boldsymbol{Y}, \\boldsymbol{H} \\right\\rangle $$\n",
        "\n",
        "Therefore:\n",
        "\n",
        "$$ \\nabla f \\left( \\boldsymbol{X} \\right) =  \\boldsymbol{A} \\boldsymbol{Y} $$"
      ]
    },
    {
      "cell_type": "markdown",
      "metadata": {
        "id": "8deNfTzfzJDx"
      },
      "source": [
        "### 2.8. Question\n",
        "\n",
        "Compute the directional derivative $\\nabla f \\left( \\boldsymbol{x} \\right) \\left[ \\boldsymbol{h} \\right]$ and the gradient $\\nabla f \\left( \\boldsymbol{x} \\right)$ of:\n",
        "\n",
        "$$ f \\left( \\boldsymbol{x} \\right) = {a}^{T} g \\left( \\boldsymbol{x} \\right) $$\n",
        "\n",
        "Where $g \\left( \\cdot \\right)$ is an element wise function $g \\left( \\boldsymbol{x} \\right) = \\begin{bmatrix} g \\left( {x}_{1} \\right) \\\\ g \\left( {x}_{2} \\right) \\\\ \\vdots \\\\ g \\left( {x}_{d} \\right) \\end{bmatrix} \\in \\mathbb{R}^{d}$"
      ]
    },
    {
      "cell_type": "markdown",
      "metadata": {
        "id": "QNpp-pALzJDx"
      },
      "source": [
        "### 2.8. Solution\n",
        "\n",
        "$f \\left( \\boldsymbol{x} \\right) = {a}^{T} g \\left( \\boldsymbol{x} \\right) = \\sum_{i=1}^d a_ig(x_i)$\\\n",
        "$\\implies \\frac{\\partial f}{\\partial x_i} = a_i\\acute{g}(x_i)$\\\n",
        "$\\implies \\nabla f \\left( \\boldsymbol{x} \\right) = \\begin{bmatrix}a_1 \\acute g \\left( {x}_{1} \\right) \\\\a_2 \\acute g \\left( {x}_{2} \\right) \\\\ \\vdots \\\\a_d \\acute g \\left( {x}_{d} \\right) \\end{bmatrix} = \\boldsymbol{a} \\circ\\nabla g\\left( \\boldsymbol{x} \\right)\\quad$, where $\\circ$ denotes the Hadamard product.\\\n",
        "$\\implies \\nabla f \\left( \\boldsymbol{x} \\right) \\left[ \\boldsymbol{h} \\right] = \\left\\langle \\boldsymbol{a} \\circ\\nabla g\\left( \\boldsymbol{x} \\right), \\boldsymbol{h}\\right\\rangle$"
      ]
    },
    {
      "cell_type": "markdown",
      "metadata": {
        "id": "GVT-XyExzJDx"
      },
      "source": [
        "### 2.10. Question\n",
        "\n",
        "Compute the directional derivative $\\nabla f \\left( X \\right) \\left[ H \\right]$ and the gradient $\\nabla f \\left( X \\right)$ of:\n",
        "\n",
        "$$ f \\left( \\boldsymbol{X} \\right) = \\left\\langle \\boldsymbol{a}, \\operatorname{Diag} \\left( \\boldsymbol{X} \\right) \\right\\rangle $$\n",
        "\n",
        "Where:\n",
        "\n",
        " - $\\boldsymbol{X} \\in \\mathbb{R}^{d \\times d}$.\n",
        " - The function $\\operatorname{Diag} \\left( \\cdot \\right) : \\mathbb{R}^{d \\times d} \\to \\mathbb{R}^{d} $ returns the diagonal of a matrix, that is, $\\boldsymbol{b} = \\operatorname{Diag} \\left( \\boldsymbol{X} \\right) \\implies \\boldsymbol{b} \\left[ i \\right] = \\left( \\boldsymbol{X} \\left[ i, i\\right] \\right)$."
      ]
    },
    {
      "cell_type": "markdown",
      "metadata": {
        "id": "-dMrmL7JzJDx"
      },
      "source": [
        "### 2.10. Solution\n",
        "\n",
        "$f \\left( \\boldsymbol{X} \\right) = \\left\\langle \\boldsymbol{a}, \\operatorname{Diag} \\left( \\boldsymbol{X} \\right) \\right\\rangle = \\sum_i \\boldsymbol{a}_i \\boldsymbol{X}_{ii}$\\\n",
        "$\\implies \\frac{\\partial f}{\\partial \\boldsymbol{X}_{ij}} = \\begin{cases} a_i \\quad \\quad\\text{if} \\quad i=j \\\\ 0 \\quad \\quad\\text{ if} \\quad i\\neq j \\end{cases} $\n",
        "\n",
        "$\\nabla f \\left( \\boldsymbol{X} \\right) =\n",
        "\\begin{bmatrix}\n",
        "a_{1} & 0 & 0 & \\dots & 0 \\\\\n",
        "0 & a_{2} & 0 & \\dots & 0 \\\\\n",
        "\\vdots &  & \\ddots &  &  \\\\\n",
        "0 &  &   &   & a_{d}\n",
        "\\end{bmatrix}$\\\n",
        "  \\\n",
        "\n",
        "$\\nabla f \\left( \\boldsymbol{X} \\right) \\left[ \\boldsymbol{H} \\right] = \\left\\langle \\nabla f \\left( \\boldsymbol{X} \\right) , \\boldsymbol{H}\\right\\rangle = \\sum_{i=1}^d a_i H_{ii} = \\left\\langle \\boldsymbol{a}, \\operatorname{Diag} \\left( \\boldsymbol{H} \\right) \\right\\rangle$\\"
      ]
    },
    {
      "cell_type": "markdown",
      "metadata": {
        "id": "wGTQxSzUzJDx"
      },
      "source": [
        "### 2.11. Question\n",
        "\n",
        "Compute the directional derivative $\\nabla f \\left( X \\right) \\left[ H \\right]$ and the gradient $\\nabla f \\left( X \\right)$ of:\n",
        "\n",
        "$$ f \\left( X \\right) = \\left \\langle A, \\sin \\left[ X \\right] \\right \\rangle $$\n",
        "\n",
        "Where:\n",
        "\n",
        " - $\\boldsymbol{X} \\in \\mathbb{R}^{d \\times d}$.\n",
        " - The function $\\sin \\left[ \\cdot \\right]$ is the element wise $\\log$ function: $\\boldsymbol{M} = \\sin \\left[ \\boldsymbol{X} \\right] \\implies \\boldsymbol{M} \\left[ i, j \\right] = \\sin \\left( \\boldsymbol{X} \\left[ i, j\\right] \\right)$."
      ]
    },
    {
      "cell_type": "markdown",
      "metadata": {
        "id": "mkIDrkFEzJDx"
      },
      "source": [
        "### 2.11. Solution\n",
        "\n",
        "<font color='red'>??? Fill the answer here ???</font>\n",
        "\n",
        "\n",
        "---"
      ]
    },
    {
      "cell_type": "markdown",
      "metadata": {
        "id": "mU5vCuvXzJDx"
      },
      "source": [
        "## 3. Constraint Optimization\n",
        "\n",
        "**MinMax**  \n",
        "\n",
        "Let $G \\left( x, y \\right) = \\sin \\left( x + y \\right)$.\n",
        "\n",
        "### 3.1. Question\n",
        "\n",
        "Show that:\n",
        "\n",
        " - $\\underset{x}{\\min} \\underset{y}{\\max} G \\left( x, y \\right) = 1$.\n",
        " - $\\underset{y}{\\max} \\underset{x}{\\min} G \\left( x, y \\right) = -1$."
      ]
    },
    {
      "cell_type": "markdown",
      "metadata": {
        "id": "OSWUo4nazJDx"
      },
      "source": [
        "### 3.1. Solution\n",
        "\n",
        "Maximizing $G \\left( x, y \\right)$ on $y$ first:\\\n",
        "$\\frac{\\partial G}{\\partial y} = \\cos \\left( x + y \\right) = 0$\\\n",
        "$\\implies y = \\frac{\\pi}{2} - x$ (and $y = -\\frac{\\pi}{2} - x$ as a minimum)\\\n",
        "$\\implies \\underset{y}{\\max}G \\left( x, y \\right) = \\sin \\left(\\frac{\\pi}{2} \\right) = 1$\\\n",
        "In other words, for every $x$ we can find a $y$ to bring the function to its maximal value $1$.\\\n",
        "Since after maximization $G \\left( x, y \\right)$ is a constant, it is independent of $x$ and minimzimg over $x$ will keep the result as $1$:\n",
        "- $\\underset{x}{\\min} \\underset{y}{\\max} G \\left( x, y \\right) = 1$\n",
        "\n",
        "\n",
        "Similarly, minimizing $G \\left( x, y \\right)$ on $x$ first:\\\n",
        "$\\frac{\\partial G}{\\partial x} = \\cos \\left( x + y \\right) = 0$\\\n",
        "$\\implies x = -\\frac{\\pi}{2} - y$ (and $x = \\frac{\\pi}{2} - y$ as a maximum)\\\n",
        "$\\implies \\underset{x}{\\min}G \\left( x, y \\right) = \\sin \\left(-\\frac{\\pi}{2} \\right) = -1$\\\n",
        "In other words, for every $y$ we can find an $x$ to bring the function to its minimal value $-1$.\\\n",
        "Since after minimization $G \\left( x, y \\right)$ is a constant, it is independent of $y$ and maximzimg over $y$ will keep the result as $-1$:\n",
        "- $\\underset{y}{\\max} \\underset{x}{\\min} G \\left( x, y \\right) = -1$"
      ]
    },
    {
      "cell_type": "markdown",
      "metadata": {
        "id": "eGW5qua6zJDy"
      },
      "source": [
        "**Rayleigh Quotient**  \n",
        "\n",
        "The _Rayleigh Quotient_ is defined by:\n",
        "\n",
        "$$ f \\left( \\boldsymbol{x} \\right) = \\frac{ \\boldsymbol{x}^{T} \\boldsymbol{A} \\boldsymbol{x} }{ \\boldsymbol{x}^{T} \\boldsymbol{x}} $$\n",
        "\n",
        "For some symmetric matrix $\\boldsymbol{A} \\in \\mathbb{R}^{d \\times d}$.\n",
        "\n",
        "### 3.2. Question\n",
        "\n",
        "For a symmetric matrix $ A $ which has non negative eigen values, Follow the given steps:\n",
        "\n",
        " - Show that $ {\\min}_{\\boldsymbol{x}} f \\left( \\boldsymbol{x} \\right) = \\begin{cases} {\\min}_{\\boldsymbol{x}} \\boldsymbol{x}^{T} \\boldsymbol{A} \\boldsymbol{x} \\\\ \\text{ s.t. } {\\left\\| \\boldsymbol{x} \\right\\|}_{2}^{2} = 1 \\end{cases} $.\n",
        " - Write the Lagrangian of the constraint objective $\\mathcal{L} \\left( \\boldsymbol{x}, \\lambda \\right)$.\n",
        " - Show that ${\\nabla}_{\\boldsymbol{x}} \\mathcal{L} \\left( \\boldsymbol{x}, \\lambda \\right) = 0 \\iff \\boldsymbol{A} \\boldsymbol{x} = \\lambda \\boldsymbol{x}$.  \n",
        "   In other words, the stationary points $\\left( \\boldsymbol{x}, \\lambda \\right)$ are the eigenvectors and eigenvalues of $\\boldsymbol{A}$."
      ]
    },
    {
      "cell_type": "markdown",
      "metadata": {
        "id": "FqRWEyz2zJD2"
      },
      "source": [
        "### 3.2. Solution\n",
        "\n",
        "* In order to find  $ {\\min}_{\\boldsymbol{x}} f \\left( \\boldsymbol{x} \\right) $ we will find $\\boldsymbol{x} $ which satisfies $\\nabla f \\left( \\boldsymbol{x} \\right) = 0$:\n",
        "$$\\nabla f \\left( \\boldsymbol{x} \\right) = ∇_x  \\frac{ \\boldsymbol{x}^{T} \\boldsymbol{A} \\boldsymbol{x} }{ \\boldsymbol{x}^{T} \\boldsymbol{x}} $$\n",
        "We can apply the rules of fraction derivatives and get:\n",
        "$$\\nabla_x\\frac{\\boldsymbol{x}^{T} \\boldsymbol{A} \\boldsymbol{x} }{ \\boldsymbol{x}^{T} \\boldsymbol{x}} = \\frac{ \\nabla(\\boldsymbol{x}^{T} \\boldsymbol{A} \\boldsymbol{x})\\boldsymbol{x}^{T} \\boldsymbol{x} - \\boldsymbol{x}^{T} \\boldsymbol{A} \\boldsymbol{x} \\nabla(\\boldsymbol{x}^{T} \\boldsymbol{x})}{( \\boldsymbol{x}^{T} \\boldsymbol{x})^2}$$\n",
        "We proved that $\\nabla(\\boldsymbol{x}^{T} \\boldsymbol{A} \\boldsymbol{x})=\\boldsymbol{A}\\boldsymbol{x} + \\boldsymbol{A}^T\\boldsymbol{x} = 2\\boldsymbol{A}\\boldsymbol{x}$ since $\\boldsymbol{A}$ is symmetric, and $\\nabla(\\boldsymbol{x}^{T} \\boldsymbol{x}) = 2\\boldsymbol{x}$.\n",
        " Therefore:\n",
        "\n",
        "$$\\nabla f \\left( \\boldsymbol{x} \\right) = \\frac{ 2(\\boldsymbol{A}\\boldsymbol{x}) \\boldsymbol{x}^{T} \\boldsymbol{x} - 2(\\boldsymbol{x}^{T} \\boldsymbol{A} \\boldsymbol{x}) \\boldsymbol{x}}{( \\boldsymbol{x}^{T} \\boldsymbol{x})^2}. $$\n",
        "We are looking for $\\boldsymbol{x}$ which satisfies $\\nabla f \\left( \\boldsymbol{x} \\right) = 0$. Therefore:\n",
        "$$\\nabla f \\left( \\boldsymbol{x} \\right) = 0 \\iff \\frac{ 2(\\boldsymbol{A}\\boldsymbol{x}) \\boldsymbol{x}^{T} \\boldsymbol{x} - 2(\\boldsymbol{x}^{T} \\boldsymbol{A} \\boldsymbol{x}) \\boldsymbol{x}}{( \\boldsymbol{x}^{T} \\boldsymbol{x})^2} = 0 \\iff 2(\\boldsymbol{A}\\boldsymbol{x}) \\boldsymbol{x}^{T} \\boldsymbol{x} - 2(\\boldsymbol{x}^{T} \\boldsymbol{A} \\boldsymbol{x}) \\boldsymbol{x} = 0 \\iff (\\boldsymbol{A}\\boldsymbol{x}) \\boldsymbol{x}^{T} \\boldsymbol{x} - (\\boldsymbol{x}^{T} \\boldsymbol{A} \\boldsymbol{x}) \\boldsymbol{x} = 0 \\iff \\boldsymbol{A} \\boldsymbol{x} = \\frac {\\boldsymbol{x}^{T} \\boldsymbol{A} \\boldsymbol{x}}{\\boldsymbol{x}^{T} \\boldsymbol{x}}\\boldsymbol{x} = f(\\boldsymbol{x})\\boldsymbol{x}$$\n",
        "We can infer that every eigenvector $\\boldsymbol{x}$ of the matrix $\\boldsymbol{A}$ with the eigenvalue $f(\\boldsymbol{x})$ satisfies the equation.\n",
        "Namely, the vectors $\\boldsymbol{x}$ that minimize $f \\left( \\boldsymbol{x} \\right)$ are those that satisfy this system of linear equations,i.e, the eigenvectors of $\\boldsymbol{A}$. Now, we have to choose among all the eigenvectors. In addition, each eigenvalue that corresponds to the eigenvector $\\boldsymbol{x}$ is $f(\\boldsymbol{x})$.\n",
        "Therefore, we just have to choose the eigenvector that corresponds to the minimal eigenvalue. In this case the eigenvector can be normalized, since the eigenvalues could be normalized as well. having ${\\left\\| \\boldsymbol{x} \\right\\|}_{2}^{2} = 1$ we conclude:\n",
        "${\\min}_{\\boldsymbol{x}} f \\left( \\boldsymbol{x} \\right)= {\\min}_{\\boldsymbol{x}}\\boldsymbol{x}^{T} \\boldsymbol{A} \\boldsymbol{x}$.\n",
        "\n",
        "\n",
        "* The Lagrangian:\n",
        "$L(\\lambda, \\boldsymbol{x}) = \\boldsymbol{x}^{T} \\boldsymbol{A} \\boldsymbol{x} - \\lambda(\\boldsymbol{x}^{T}\\boldsymbol{x} - 1)$ where $\\lambda$ is the lagrangian multiplication factor, $\\boldsymbol{x}^{T} \\boldsymbol{A} \\boldsymbol{x}$ is the objective function and $\\boldsymbol{x}^{T}\\boldsymbol{x} - 1$ is the constraint.\n",
        "\n",
        "* $\\nabla_xL(\\lambda, \\boldsymbol{x}) = \\nabla_x\\boldsymbol{x}^{T} \\boldsymbol{A} \\boldsymbol{x} - \\lambda(\\boldsymbol{x}^{T}\\boldsymbol{x} - 1) = 2\\boldsymbol{A} \\boldsymbol{x} - 2\\lambda \\boldsymbol{x}$. Therefore:\n",
        "$$\\nabla_xL(\\lambda, \\boldsymbol{x}) = 0 \\iff 2\\boldsymbol{A} \\boldsymbol{x} - 2\\lambda \\boldsymbol{x} = 0 \\iff \\boldsymbol{A} \\boldsymbol{x} = \\lambda \\boldsymbol{x} $$"
      ]
    },
    {
      "cell_type": "markdown",
      "metadata": {
        "id": "Ws8fbiCvzJD2"
      },
      "source": [
        "<img src=\"https://i.imgur.com/qIP5xPv.png\" height=\"700\">"
      ]
    }
  ],
  "metadata": {
    "kernelspec": {
      "display_name": "Python 3",
      "language": "python",
      "name": "python3"
    },
    "language_info": {
      "codemirror_mode": {
        "name": "ipython",
        "version": 3
      },
      "file_extension": ".py",
      "mimetype": "text/x-python",
      "name": "python",
      "nbconvert_exporter": "python",
      "pygments_lexer": "ipython3",
      "version": "3.10.9"
    },
    "toc": {
      "base_numbering": 1,
      "nav_menu": {},
      "number_sections": false,
      "sideBar": true,
      "skip_h1_title": false,
      "title_cell": "Table of Contents",
      "title_sidebar": "Contents",
      "toc_cell": false,
      "toc_position": {},
      "toc_section_display": true,
      "toc_window_display": true
    },
    "varInspector": {
      "cols": {
        "lenName": 16,
        "lenType": 16,
        "lenVar": 40
      },
      "kernels_config": {
        "python": {
          "delete_cmd_postfix": "",
          "delete_cmd_prefix": "del ",
          "library": "var_list.py",
          "varRefreshCmd": "print(var_dic_list())"
        },
        "r": {
          "delete_cmd_postfix": ") ",
          "delete_cmd_prefix": "rm(",
          "library": "var_list.r",
          "varRefreshCmd": "cat(var_dic_list()) "
        }
      },
      "types_to_exclude": [
        "module",
        "function",
        "builtin_function_or_method",
        "instance",
        "_Feature"
      ],
      "window_display": false
    },
    "vscode": {
      "interpreter": {
        "hash": "39577bab1f263e62e0b74f5b8086bd735049bf4751f6562b2d4b2969dc308293"
      }
    },
    "colab": {
      "provenance": []
    }
  },
  "nbformat": 4,
  "nbformat_minor": 0
}