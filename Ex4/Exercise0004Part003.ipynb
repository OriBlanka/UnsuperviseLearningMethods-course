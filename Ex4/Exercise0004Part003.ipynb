{
 "cells": [
  {
   "attachments": {},
   "cell_type": "markdown",
   "metadata": {},
   "source": [
    "![](https://i.imgur.com/qkg2E2D.png)\n",
    "\n",
    "# UnSupervised Learning Methods\n",
    "\n",
    "## Exercise 004 - Part III\n",
    "\n",
    "> Notebook by:\n",
    "> - Royi Avital RoyiAvital@fixelalgorithms.com\n",
    "\n",
    "## Revision History\n",
    "\n",
    "| Version | Date       | User        |Content / Changes                                                   |\n",
    "|---------|------------|-------------|--------------------------------------------------------------------|\n",
    "| 1.0.000 | 08/09/2023 | Royi Avital | First version                                                      |"
   ]
  },
  {
   "attachments": {},
   "cell_type": "markdown",
   "metadata": {},
   "source": [
    "[![Open In Colab](https://colab.research.google.com/assets/colab-badge.svg)](https://colab.research.google.com/github/FixelAlgorithmsTeam/FixelCourses/blob/master/UnSupervisedLearningMethods/2023_08/Exercise0004Part003.ipynb)"
   ]
  },
  {
   "cell_type": "code",
   "execution_count": null,
   "metadata": {
    "ExecuteTime": {
     "end_time": "2022-02-02T09:30:06.492269Z",
     "start_time": "2022-02-02T09:30:06.220934Z"
    }
   },
   "outputs": [],
   "source": [
    "# Import Packages\n",
    "\n",
    "# General Tools\n",
    "import numpy as np\n",
    "import scipy as sp\n",
    "import pandas as pd\n",
    "\n",
    "# Machine Learning\n",
    "from sklearn.cluster import KMeans\n",
    "from sklearn.datasets import make_s_curve, make_swiss_roll\n",
    "from sklearn.neighbors import NearestNeighbors\n",
    "from sklearn.neighbors import kneighbors_graph\n",
    "\n",
    "# Computer Vision\n",
    "\n",
    "# Miscellaneous\n",
    "import os\n",
    "import math\n",
    "from platform import python_version\n",
    "import random\n",
    "import time\n",
    "import urllib.request\n",
    "\n",
    "# Typing\n",
    "from typing import Callable, List, Tuple, Union\n",
    "\n",
    "# Visualization\n",
    "import matplotlib.pyplot as plt\n",
    "import seaborn as sns\n",
    "\n",
    "# Jupyter\n",
    "from IPython import get_ipython\n",
    "from IPython.display import Image, display\n",
    "from ipywidgets import Dropdown, FloatSlider, interact, IntSlider, Layout\n"
   ]
  },
  {
   "attachments": {},
   "cell_type": "markdown",
   "metadata": {},
   "source": [
    "## Notations\n",
    "\n",
    "* <font color='red'>(**?**)</font> Question to answer interactively.\n",
    "* <font color='blue'>(**!**)</font> Simple task to add code for the notebook.\n",
    "* <font color='green'>(**@**)</font> Optional / Extra self practice.\n",
    "* <font color='brown'>(**#**)</font> Note / Useful resource / Food for thought."
   ]
  },
  {
   "cell_type": "code",
   "execution_count": null,
   "metadata": {},
   "outputs": [],
   "source": [
    "# Configuration\n",
    "# %matplotlib inline\n",
    "\n",
    "seedNum = 512\n",
    "np.random.seed(seedNum)\n",
    "random.seed(seedNum)\n",
    "\n",
    "# sns.set_theme() #>! Apply SeaBorn theme\n",
    "\n",
    "runInGoogleColab = 'google.colab' in str(get_ipython())"
   ]
  },
  {
   "cell_type": "code",
   "execution_count": null,
   "metadata": {},
   "outputs": [],
   "source": [
    "# Constants\n",
    "\n",
    "DATA_FILE_URL   = r'https://drive.google.com/uc?export=download&confirm=9iBg&id=1lT6eWVRvfx_iusI9zB1fLg_g64n_141A'\n",
    "DATA_FILE_NAME  = r'Rings5.mat'\n",
    "\n",
    "TOTAL_RUN_TIME = 10 #<! Don't touch it!\n"
   ]
  },
  {
   "cell_type": "code",
   "execution_count": null,
   "metadata": {},
   "outputs": [],
   "source": [
    "# Auxiliary Functions\n",
    "\n",
    "def Plot3DScatter(mX: np.ndarray, hA: plt.Axes, vC: np.ndarray = None) -> None:\n",
    "    m = mX.min()\n",
    "    M = mX.max()\n",
    "    if vC is not None:\n",
    "        hA.scatter(*mX.T, s = 50,  c = vC, edgecolor = 'k', alpha = 1)\n",
    "    else:\n",
    "        hA.scatter(*mX.T, s = 50,  c = 'lime', edgecolor = 'k', alpha = 1)\n",
    "    hA.set_xlim([m, M])\n",
    "    hA.set_ylim([m, M])\n",
    "    hA.set_zlim([m, M])\n",
    "    hA.set_xlabel('$x_1$')\n",
    "    hA.set_ylabel('$x_2$')\n",
    "    hA.set_zlabel('$x_3$')\n",
    "\n",
    "def Plot2DScatter(mX: np.ndarray, hA: plt.Axes, vC: np.ndarray = None) -> None:\n",
    "    m = mX.min()\n",
    "    M = mX.max()\n",
    "    if vC is not None:\n",
    "        hA.scatter(*mX.T, s = 50,  c = vC, edgecolor = 'k', alpha = 1)\n",
    "    else:\n",
    "        hA.scatter(*mX.T, s = 50,  c = 'lime', edgecolor = 'k', alpha = 1)\n",
    "    hA.set_xlim([m, M])\n",
    "    hA.set_ylim([m, M])\n",
    "    hA.set_xlabel('$x_1$')\n",
    "    hA.set_ylabel('$x_2$')\n",
    "\n",
    "\n",
    "def MaximumSparseMat(mA: sp.sparse.spmatrix, mB: sp.sparse.spmatrix) -> sp.sparse.spmatrix:\n",
    "    \"\"\"\n",
    "    Returns the element wise maximum of sparse matrices `mA` and `mB`.\n",
    "    \"\"\"\n",
    "    mAgtB = (mA > mB).astype(int)\n",
    "    mM = mAgtB.multiply(mA - mB) + mB\n",
    "\n",
    "    return mM\n"
   ]
  },
  {
   "attachments": {},
   "cell_type": "markdown",
   "metadata": {},
   "source": [
    "## Guidelines\n",
    "\n",
    " - Fill the full names and ID's of the team members in the `Team Members` section.\n",
    " - Answer all questions / tasks within the Jupyter Notebook.\n",
    " - Use MarkDown + MathJaX + Code to answer.\n",
    " - Verify the rendering on VS Code.\n",
    " - Don't use `pip install` on the submitted notebook!  \n",
    "   If you need a package that is not imported above use **the dedicated cell**.  \n",
    "   Comment what do you need the package for and the version needed.\n",
    " - If you need functions from previous notebook copy them into a file called `AuxFun.py`.  \n",
    "   Import the function in the dedicated cell.\n",
    " - Submission in groups (Single submission per group).\n",
    " - The submission files should have the format: `<fileName>_GRP_<#>`.  \n",
    "   For instance, `Exercise001Part002_GRP_A.ipynb` or `AuxFun_GRP_A.py`.\n",
    " - You may and _should_ use the forums for questions.\n",
    " - Good Luck!\n",
    "\n",
    "<font color='red'>Total run time must be **less than `TOTAL_RUN_TIME` seconds**</font>."
   ]
  },
  {
   "cell_type": "code",
   "execution_count": null,
   "metadata": {},
   "outputs": [],
   "source": [
    "# Run Time\n",
    "print(f'The total run time must not exceed: {TOTAL_RUN_TIME} [Sec]')\n",
    "startTime = time.time()"
   ]
  },
  {
   "attachments": {},
   "cell_type": "markdown",
   "metadata": {},
   "source": [
    "* <font color='brown'>(**#**)</font> The `Import Packages` section above imports most needed tools to apply the work. Please use it.\n",
    "* <font color='brown'>(**#**)</font> You may replace the suggested functions to use with functions from other packages.\n",
    "* <font color='brown'>(**#**)</font> Whatever not said explicitly to implement maybe used by a 3rd party packages."
   ]
  },
  {
   "attachments": {},
   "cell_type": "markdown",
   "metadata": {},
   "source": [
    "## Team Members\n",
    "\n",
    " - `<FULL>_<NAME>_<ID001>`.\n",
    " - `<FULL>_<NAME>_<ID002>`."
   ]
  },
  {
   "cell_type": "code",
   "execution_count": null,
   "metadata": {},
   "outputs": [],
   "source": [
    "# Students Packages to Import\n",
    "# If you need a package not listed above, use this cell\n",
    "# Do not use `pip install` in the submitted notebook\n",
    "\n"
   ]
  },
  {
   "attachments": {},
   "cell_type": "markdown",
   "metadata": {},
   "source": [
    "## Generate / Load Data"
   ]
  },
  {
   "cell_type": "code",
   "execution_count": null,
   "metadata": {},
   "outputs": [],
   "source": [
    "# Download Data\n",
    "# This section downloads data from the given URL if needed.\n",
    "\n",
    "if (DATA_FILE_NAME != 'None') and (not os.path.exists(DATA_FILE_NAME)):\n",
    "    urllib.request.urlretrieve(DATA_FILE_URL, DATA_FILE_NAME)"
   ]
  },
  {
   "attachments": {},
   "cell_type": "markdown",
   "metadata": {},
   "source": [
    "## 8. IsoMap & Laplacian EigenMaps\n",
    "\n",
    "### 8.1. IsoMap Algorithm\n",
    "\n",
    "In this section we'll implement a SciKit Learn API compatible class for the IsoMap algorithm.  \n",
    "For the graphs we'll use the _K Nearest Neighbors_ approach.\n",
    "\n",
    "The class should implement the following methods:\n",
    "\n",
    "1. `__init____()` - The object constructor by the encoder dimension.  \n",
    "2. `fit()` - Given a data set builds the encoder.  \n",
    "3. `transform()` - Applies the encoding on the input data in out of sample manner.  \n",
    "4. `fix_transform()` - Given a data set builds the encoder and applies the encoding.  \n",
    "\n",
    "* <font color='brown'>(**#**)</font> Pay attention to data structure (`Nx x Nx` / `Nx x Ny`).\n",
    "* <font color='brown'>(**#**)</font> Do not use any loops in you implementation.\n",
    "* <font color='brown'>(**#**)</font> You should use your `CMDS()` implementation.\n",
    "* <font color='brown'>(**#**)</font> Use `from CourseAuxFun.py import *` to import your code.\n",
    "* <font color='brown'>(**#**)</font> You should use SciKit Learn's `sklearn.neighbors.kneighbors_graph`. Pay attention the output is a sparse matrix.\n",
    "* <font color='brown'>(**#**)</font> You should use SciPy's `scipy.sparse.csgraph.connected_components` to check the graph is valid (Connected).  \n",
    "* <font color='brown'>(**#**)</font> You should use SciPy's `scipy.sparse.csgraph.shortest_path` to computer the pairs shortest path matrix.  \n",
    "* <font color='brown'>(**#**)</font> For the `transform()` methods you should use SciKit Learn's `sklearn.neighbors.NearestNeighbors`.  \n"
   ]
  },
  {
   "cell_type": "code",
   "execution_count": null,
   "metadata": {},
   "outputs": [],
   "source": [
    "class IsoMap():\n",
    "    def __init__(self, d: int = 2, k: int = 9):\n",
    "        '''\n",
    "        Constructing the object.\n",
    "        Args:\n",
    "            d - Number of dimensions of the encoder output.\n",
    "            k - Number of neighbors in the graph construction.\n",
    "        '''\n",
    "        #===========================Fill This===========================#\n",
    "        # 1. Keep the model parameters.\n",
    "\n",
    "        pass\n",
    "        #===============================================================#\n",
    "        \n",
    "    def fit(self, mX: np.ndarray):\n",
    "        '''\n",
    "        Fitting model parameters to the input.\n",
    "        Args:\n",
    "            mX - Input data with shape N x D.\n",
    "        Output:\n",
    "            self\n",
    "        '''\n",
    "        #===========================Fill This===========================#\n",
    "        # 1. Build the graph from the data.\n",
    "        # 2. Verify the graph is connected (Raise error if not).\n",
    "        # 3. Build the encoder.\n",
    "        # !! Use the K-NN method to build the graph.\n",
    "        # !! Make sure the graph obeys the assumptions made.\n",
    "        # !! The encoder should be based on the CMDS() class.\n",
    "\n",
    "        pass\n",
    "        #===============================================================# \n",
    "        return self\n",
    "    \n",
    "    def transform(self, mY: np.ndarray) -> np.ndarray:\n",
    "        '''\n",
    "        Applies (Out of sample) encoding.\n",
    "        Args:\n",
    "            mY - Input data (Out of Sample) with shape N x D.\n",
    "        Output:\n",
    "            mZ - Low dimensional representation (embeddings) with shape N x d.\n",
    "        '''\n",
    "        #===========================Fill This===========================#\n",
    "        # 1. Encode data using the model encoder.\n",
    "\n",
    "        pass\n",
    "        #===============================================================#\n",
    "\n",
    "        return mZ\n",
    "    \n",
    "    def fit_transform(self, mX: np.ndarray) -> np.ndarray:\n",
    "        '''\n",
    "        Applies encoding on the input.\n",
    "        Args:\n",
    "            mX - Input data (Distance matrix) with shape N x D.\n",
    "        Output:\n",
    "            mZ - Low dimensional representation (embeddings) with shape N x d.\n",
    "        '''\n",
    "        #===========================Fill This===========================#\n",
    "        # 1. Apply the `fit()` method.\n",
    "        # 2. Encode data using the model encoder.\n",
    "        \n",
    "        pass\n",
    "        #===============================================================#\n",
    "\n",
    "        return mZ\n"
   ]
  },
  {
   "attachments": {},
   "cell_type": "markdown",
   "metadata": {},
   "source": [
    "* <font color='red'>(**?**)</font> Will `fit()` and then `transform()` will match the result of `fit_transform()`?  \n",
    "  Make sure you understand this before proceeding."
   ]
  },
  {
   "attachments": {},
   "cell_type": "markdown",
   "metadata": {},
   "source": [
    "### 8.2. Laplacian EigenMaps Algorithm\n",
    "\n",
    "In this section we'll implement a SciKit Learn API compatible class for the Laplacian EigenMaps.  \n",
    "\n",
    "The class should implement the following methods:\n",
    "\n",
    "1. `__init____()` - The object constructor by the encoder dimension.  \n",
    "2. `fit()` - Given a data set ($\\boldsymbol{D}_{xx}$) builds the encoder.    \n",
    "4. `fit_transform()` - Given a data set ($\\boldsymbol{D}_{xx}$) builds the encoder and applies the encoding.  \n",
    "\n",
    "* <font color='brown'>(**#**)</font> Pay attention to data structure (`Nx x Nx` / `Nx x Ny`).\n",
    "* <font color='brown'>(**#**)</font> Do not use any loops in you implementation beside the main MM loop.\n",
    "* <font color='brown'>(**#**)</font> Think about the difference in `transform()` and `fit_transform()` compared to `CMDS()` above."
   ]
  },
  {
   "cell_type": "code",
   "execution_count": null,
   "metadata": {},
   "outputs": [],
   "source": [
    "class LaplacianEigenMaps():\n",
    "    def __init__(self, d: int = 2, k: int = 9, σ: float = 1):\n",
    "        '''\n",
    "        Constructing the object.\n",
    "        Args:\n",
    "            d - Number of dimensions of the encoder output.\n",
    "            k - Number of neighbors in the graph construction.\n",
    "            σ - The factor to multiply the median distance by.\n",
    "        '''\n",
    "        #===========================Fill This===========================#\n",
    "        # 1. Keep the model parameters.\n",
    "\n",
    "        pass\n",
    "        #===============================================================#\n",
    "        \n",
    "    def fit(self, mX: np.ndarray):\n",
    "        '''\n",
    "        Fitting model parameters to the input.\n",
    "        Args:\n",
    "            mX - Input data with shape N x D.\n",
    "        Output:\n",
    "            self\n",
    "        '''\n",
    "        #===========================Fill This===========================#\n",
    "        # 1. Build a valid graph.\n",
    "        # 2. Calculate the number of connected components in the graph.\n",
    "        # 3. Keep the parameters in the object.\n",
    "        # !! Raise error if the graph has more than 1 connected component.\n",
    "\n",
    "        pass\n",
    "        #===============================================================# \n",
    "        return self\n",
    "    \n",
    "    def fit_transform(self, mX: np.ndarray) -> np.ndarray:\n",
    "        '''\n",
    "        Applies encoding on input data.\n",
    "        Args:\n",
    "            mX - Input data (Distance matrix) with shape N x D.\n",
    "        Output:\n",
    "            mZ - Low dimensional representation (embeddings) with shape N x d.\n",
    "        '''\n",
    "        #===========================Fill This===========================#\n",
    "        # 1. Apply the `fit()` method.\n",
    "        # 2. Build the distance matrix.\n",
    "        # 3. Set σ^2 to be the median squared euclidean distance multiplied by `self.σ^2``.\n",
    "        # 4. Build the Affinity Matrix using Gaussian Weights.\n",
    "        # 5. Build the Laplacian.\n",
    "        # 6. Apply eigen decomposition to the Laplacian.\n",
    "        # 7. Choose the eigen vectors wisely.\n",
    "        # 8. Encode data.\n",
    "        # !! You should chose the vectors\n",
    "        \n",
    "        pass\n",
    "        #===============================================================#\n",
    "\n",
    "        return mZ\n"
   ]
  },
  {
   "attachments": {},
   "cell_type": "markdown",
   "metadata": {},
   "source": [
    "* <font color='red'>(**?**)</font> Why is the `transform()` method not asked to be implemented?  \n",
    "  Make sure you understand this before proceeding."
   ]
  },
  {
   "attachments": {},
   "cell_type": "markdown",
   "metadata": {},
   "source": [
    "### 8.3. Clustering Using Dimensionality Reduction\n",
    "\n",
    "In this section the IsMap and Laplacian Eigenmaps methods will be used for clustering of the _5 Rings_ data set.\n",
    "\n",
    "For each data set:\n",
    "\n",
    "1. Plot the Data Set  \n",
    "   Plot the Data set in 3D.  \n",
    "   **This is implemented**.\n",
    "2. Reduce the Dimensionality of the Data  \n",
    "   Reduce the dimensionality of the data to `d = 2` using each method.  \n",
    "   Set the number of neighbors in the graph so the graph has a single component.\n",
    "3. Apply the Clustering  \n",
    "   Use K-Means for clustering with `k = 5`.  \n",
    "4. Plot the Clustered Data  \n",
    "   Plot the data with the clustering per method.  \n",
    "   Plot the transformed labeled data and the original data per method.\n",
    "\n",
    "* <font color='brown'>(**#**)</font> Pay attention to the difference in dimensions of the data to the derived Math formulations.\n",
    "* <font color='brown'>(**#**)</font> The output should be 2 figures for each data set. You may show them in a single plot using sub plots."
   ]
  },
  {
   "cell_type": "code",
   "execution_count": null,
   "metadata": {},
   "outputs": [],
   "source": [
    "# Generate Data\n",
    "\n",
    "mX = sp.io.loadmat('Rings5.mat')['pointCloud']\n",
    "mX = mX.T\n",
    "\n",
    "print(f'The data dimensions are {mX.shape[0]}x{mX.shape[1]}')"
   ]
  },
  {
   "cell_type": "code",
   "execution_count": null,
   "metadata": {},
   "outputs": [],
   "source": [
    "# Plot Data\n",
    "# Plotting the Data and a reference clustering by K-Means\n",
    "\n",
    "K = 5 #<! Number of clusters\n",
    "\n",
    "oKMeansCluster  = KMeans(n_clusters = K, n_init = 'auto')\n",
    "vC              = oKMeansCluster.fit_predict(mX)\n",
    "    \n",
    "hF  = plt.figure(figsize = (12, 6))\n",
    "hA1 = hF.add_subplot(1, 2, 1, projection = '3d')\n",
    "hA2 = hF.add_subplot(1, 2, 2, projection = '3d')\n",
    "\n",
    "Plot3DScatter(mX, hA1)\n",
    "hA1.set_title('The 5 Rings Data')\n",
    "hA1.view_init(elev = 45, azim = 300)\n",
    "\n",
    "Plot3DScatter(mX, hA2, vC = vC)\n",
    "hA2.set_title(f'The 5 Rings Data - Clustered by K-Means with K = {K}')\n",
    "hA2.view_init(elev = 45, azim = 300)\n",
    "\n",
    "plt.tight_layout()\n",
    "plt.show()"
   ]
  },
  {
   "cell_type": "code",
   "execution_count": null,
   "metadata": {},
   "outputs": [],
   "source": [
    "#===========================Fill This===========================#\n",
    "# 1. Set parameters: `d`, `kNumNeighbors`, `σ` (Try to get a good clustering result).\n",
    "# 2. Apply Dimensionality Reduction using IsoMap and Laplacian Eigen Maps.  \n",
    "# 3. Apply K-Means on the transformed data.\n",
    "# 4. Display the clustered data in 2D (Low Dimension) and 3D (Original).\n",
    "# !! You should use, in this case, the same number of neighbors for both algorithms.\n",
    "# !! The output should be a figure of 2x2 axes (2D Scatter and 3D Scatter per method).\n",
    "# !! You may use `Plot3DScatter()` and `Plot2DScatter()` for displaying the the data.\n",
    "\n",
    "d               = ???\n",
    "kNumNeighbors   = ???\n",
    "σ               = ???\n",
    "\n",
    "?????\n",
    "\n",
    "#===============================================================#"
   ]
  },
  {
   "attachments": {},
   "cell_type": "markdown",
   "metadata": {},
   "source": [
    "### 8.4. Question\n",
    "\n",
    "In the above we used _Laplacian Eigenmaps_ for dimensionality reduction and then clustering.  \n",
    "What would change if the task was to apply Spectral Clustering?  \n",
    "Describe what will happen for the data above (The _5 Rings_).  \n",
    "Address the changes needed in the implementation of the class `LaplcaianEigenMaps()` and the use of the class.\n",
    "\n",
    "* <font color='brown'>(**#**)</font> You should use the ideas in _Question 5.2._ / _Question 5.3._."
   ]
  },
  {
   "attachments": {},
   "cell_type": "markdown",
   "metadata": {},
   "source": [
    "### 8.4. Solution\n",
    "\n",
    "<font color='red'>??? Fill the answer here ???</font>\n",
    "\n",
    "---"
   ]
  },
  {
   "cell_type": "code",
   "execution_count": null,
   "metadata": {},
   "outputs": [],
   "source": [
    "# Run Time\n",
    "# Check Total Run Time.\n",
    "# Don't change this!\n",
    "\n",
    "endTime = time.time()\n",
    "\n",
    "totalRunTime = endTime - startTime\n",
    "print(f'Total Run Time: {totalRunTime} [Sec].')\n",
    "\n",
    "if (totalRunTime > TOTAL_RUN_TIME):\n",
    "    raise ValueError(f'You have exceeded the allowed run time as {totalRunTime} > {TOTAL_RUN_TIME}')"
   ]
  }
 ],
 "metadata": {
  "kernelspec": {
   "display_name": "Python 3",
   "language": "python",
   "name": "python3"
  },
  "language_info": {
   "codemirror_mode": {
    "name": "ipython",
    "version": 3
   },
   "file_extension": ".py",
   "mimetype": "text/x-python",
   "name": "python",
   "nbconvert_exporter": "python",
   "pygments_lexer": "ipython3",
   "version": "3.11.3"
  },
  "toc": {
   "base_numbering": 1,
   "nav_menu": {},
   "number_sections": false,
   "sideBar": true,
   "skip_h1_title": false,
   "title_cell": "Table of Contents",
   "title_sidebar": "Contents",
   "toc_cell": false,
   "toc_position": {},
   "toc_section_display": true,
   "toc_window_display": true
  },
  "varInspector": {
   "cols": {
    "lenName": 16,
    "lenType": 16,
    "lenVar": 40
   },
   "kernels_config": {
    "python": {
     "delete_cmd_postfix": "",
     "delete_cmd_prefix": "del ",
     "library": "var_list.py",
     "varRefreshCmd": "print(var_dic_list())"
    },
    "r": {
     "delete_cmd_postfix": ") ",
     "delete_cmd_prefix": "rm(",
     "library": "var_list.r",
     "varRefreshCmd": "cat(var_dic_list()) "
    }
   },
   "types_to_exclude": [
    "module",
    "function",
    "builtin_function_or_method",
    "instance",
    "_Feature"
   ],
   "window_display": false
  },
  "vscode": {
   "interpreter": {
    "hash": "39577bab1f263e62e0b74f5b8086bd735049bf4751f6562b2d4b2969dc308293"
   }
  }
 },
 "nbformat": 4,
 "nbformat_minor": 4
}
