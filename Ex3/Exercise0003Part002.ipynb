{
 "cells": [
  {
   "attachments": {},
   "cell_type": "markdown",
   "metadata": {},
   "source": [
    "![](https://i.imgur.com/qkg2E2D.png)\n",
    "\n",
    "# UnSupervised Learning Methods\n",
    "\n",
    "## Exercise 003 - Part II\n",
    "\n",
    "> Notebook by:\n",
    "> - Royi Avital RoyiAvital@fixelalgorithms.com\n",
    "\n",
    "## Revision History\n",
    "\n",
    "| Version | Date       | User        |Content / Changes                                                   |\n",
    "|---------|------------|-------------|--------------------------------------------------------------------|\n",
    "| 1.0.000 | 28/05/2023 | Royi Avital | First version                                                      |"
   ]
  },
  {
   "attachments": {},
   "cell_type": "markdown",
   "metadata": {},
   "source": [
    "[![Open In Colab](https://colab.research.google.com/assets/colab-badge.svg)](https://colab.research.google.com/github/FixelAlgorithmsTeam/FixelCourses/blob/master/UnSupervisedLearningMethods/2023_08/Exercise0003Part002.ipynb)"
   ]
  },
  {
   "cell_type": "code",
   "execution_count": 1,
   "metadata": {
    "ExecuteTime": {
     "end_time": "2022-02-02T09:30:06.492269Z",
     "start_time": "2022-02-02T09:30:06.220934Z"
    }
   },
   "outputs": [],
   "source": [
    "# Import Packages\n",
    "\n",
    "# General Tools\n",
    "import numpy as np\n",
    "import scipy as sp\n",
    "import pandas as pd\n",
    "\n",
    "# Machine Learning\n",
    "from sklearn.datasets import fetch_openml, load_breast_cancer, load_digits, load_iris, load_wine\n",
    "\n",
    "# Computer Vision\n",
    "\n",
    "# Miscellaneous\n",
    "import os\n",
    "import math\n",
    "from platform import python_version\n",
    "import random\n",
    "import time\n",
    "import urllib.request\n",
    "\n",
    "# Typing\n",
    "from typing import Callable, List, Tuple, Union\n",
    "\n",
    "# Visualization\n",
    "import matplotlib.pyplot as plt\n",
    "import seaborn as sns\n",
    "\n",
    "# Jupyter\n",
    "from IPython import get_ipython\n",
    "from IPython.display import Image, display\n",
    "from ipywidgets import Dropdown, FloatSlider, interact, IntSlider, Layout"
   ]
  },
  {
   "attachments": {},
   "cell_type": "markdown",
   "metadata": {},
   "source": [
    "## Notations\n",
    "\n",
    "* <font color='red'>(**?**)</font> Question to answer interactively.\n",
    "* <font color='blue'>(**!**)</font> Simple task to add code for the notebook.\n",
    "* <font color='green'>(**@**)</font> Optional / Extra self practice.\n",
    "* <font color='brown'>(**#**)</font> Note / Useful resource / Food for thought."
   ]
  },
  {
   "cell_type": "code",
   "execution_count": 2,
   "metadata": {},
   "outputs": [],
   "source": [
    "# Configuration\n",
    "%matplotlib inline\n",
    "\n",
    "seedNum = 512\n",
    "np.random.seed(seedNum)\n",
    "random.seed(seedNum)\n",
    "\n",
    "# sns.set_theme() #>! Apply SeaBorn theme\n",
    "\n",
    "runInGoogleColab = 'google.colab' in str(get_ipython())"
   ]
  },
  {
   "cell_type": "code",
   "execution_count": 3,
   "metadata": {},
   "outputs": [],
   "source": [
    "# Constants\n",
    "\n",
    "DATA_FILE_URL   = r'None'\n",
    "DATA_FILE_NAME  = r'None'\n",
    "\n",
    "T_MNIST_IMG_SIZE = (28, 28)\n",
    "\n",
    "TOTAL_RUN_TIME = 30 #<! Don't touch it!\n"
   ]
  },
  {
   "cell_type": "code",
   "execution_count": 4,
   "metadata": {},
   "outputs": [],
   "source": [
    "# Auxiliary Functions\n",
    "\n",
    "def BalancedSubSample( dfX: pd.DataFrame, colName: str, numSamples: int ):\n",
    "    \n",
    "    # TODO: Validate the number of samples\n",
    "    # TODO: Validate the column name (Existence and categorical values)\n",
    "    return dfX.groupby(colName, as_index = False, group_keys = False).apply(lambda dfS: dfS.sample(numSamples, replace = False))"
   ]
  },
  {
   "attachments": {},
   "cell_type": "markdown",
   "metadata": {},
   "source": [
    "## Guidelines\n",
    "\n",
    " - Fill the full names and ID's of the team members in the `Team Members` section.\n",
    " - Answer all questions / tasks within the Jupyter Notebook.\n",
    " - Use MarkDown + MathJaX + Code to answer.\n",
    " - Verify the rendering on VS Code.\n",
    " - Submission in groups (Single submission per group).\n",
    " - You may and _should_ use the forums for questions.\n",
    " - Don't use `pip install` on the submitted notebook!  \n",
    "   If you need a package that is not imported make it clear by a comment.\n",
    " - Good Luck!\n",
    "\n",
    "<font color='red'>Total run time must be **less than `TOTAL_RUN_TIME` seconds**</font>."
   ]
  },
  {
   "cell_type": "code",
   "execution_count": 5,
   "metadata": {},
   "outputs": [
    {
     "name": "stdout",
     "output_type": "stream",
     "text": [
      "The total run time must not exceed: 30 [Sec]\n"
     ]
    }
   ],
   "source": [
    "# Run Time\n",
    "print(f'The total run time must not exceed: {TOTAL_RUN_TIME} [Sec]')\n",
    "startTime = time.time()"
   ]
  },
  {
   "attachments": {},
   "cell_type": "markdown",
   "metadata": {},
   "source": [
    "## Team Members\n",
    "\n",
    " - `<FULL>_<NAME>_<ID001>`.\n",
    " - `<FULL>_<NAME>_<ID002>`."
   ]
  },
  {
   "attachments": {},
   "cell_type": "markdown",
   "metadata": {},
   "source": [
    "* <font color='brown'>(**#**)</font> The `Import Packages` section above imports most needed tools to apply the work. Please use it.\n",
    "* <font color='brown'>(**#**)</font> You may replace the suggested functions to use with functions from other packages.\n",
    "* <font color='brown'>(**#**)</font> Whatever not said explicitly to implement maybe used by a 3rd party packages.\n",
    "* <font color='brown'>(**#**)</font> The total run time of this notebook must be **lower than 60 [Sec]**."
   ]
  },
  {
   "cell_type": "code",
   "execution_count": 6,
   "metadata": {},
   "outputs": [],
   "source": [
    "# Students Packages to Import\n",
    "# If you need a package not listed above, use this cell\n",
    "# Do not use `pip install` in the submitted notebook\n",
    "\n"
   ]
  },
  {
   "attachments": {},
   "cell_type": "markdown",
   "metadata": {},
   "source": [
    "## Generate / Load Data"
   ]
  },
  {
   "cell_type": "code",
   "execution_count": 7,
   "metadata": {},
   "outputs": [],
   "source": [
    "# Download Data\n",
    "# This section downloads data from the given URL if needed.\n",
    "\n",
    "if (DATA_FILE_NAME != 'None') and (not os.path.exists(DATA_FILE_NAME)):\n",
    "    urllib.request.urlretrieve(DATA_FILE_URL, DATA_FILE_NAME)"
   ]
  },
  {
   "attachments": {},
   "cell_type": "markdown",
   "metadata": {},
   "source": [
    "## 3. PCA\n",
    "\n",
    "### 3.1. PCA Algorithm\n",
    "\n",
    "In this section we'll implement a SciKit Learn API compatible class for the PCA.  \n",
    "The class should implement the following methods:\n",
    "\n",
    "1. `__init____()` - The object constructor by the encoder dimension.  \n",
    "2. `fit()` - Given a data set builds the encoder / decoder.  \n",
    "3. `transform()` - Applies the encoding on the input data.  \n",
    "4. `inverse_transform()` - Applies the decoding on the input data.  \n",
    "\n",
    "* <font color='brown'>(**#**)</font> You may use the [SciKit Learn's PCA module](https://scikit-learn.org/stable/modules/generated/sklearn.decomposition.PCA.html) as a reference.\n",
    "* <font color='brown'>(**#**)</font> Both encoding and decoding applied as out of sample encoding / decoding.\n",
    "* <font color='brown'>(**#**)</font> Pay attention to data structure (`N x D`).\n"
   ]
  },
  {
   "cell_type": "code",
   "execution_count": 8,
   "metadata": {},
   "outputs": [],
   "source": [
    "class PCA:\n",
    "    def __init__(self, d: int = 2):\n",
    "        '''\n",
    "        Constructing the object.\n",
    "        Args:\n",
    "            d - Number of dimensions of the encoder output.\n",
    "        '''\n",
    "        #===========================Fill This===========================#\n",
    "        # 1. Keep the model parameters.\n",
    "\n",
    "        self.d = d\n",
    "        self.mUd = None\n",
    "        self.vMean = None\n",
    "        #===============================================================#\n",
    "        \n",
    "    def fit(self, mX: np.ndarray):\n",
    "        '''\n",
    "        Fitting model parameters to the input.\n",
    "        Args:\n",
    "            mX - Input data with shape N x D.\n",
    "        Output:\n",
    "            self\n",
    "        '''\n",
    "        #===========================Fill This===========================#\n",
    "        # 1. Build the model encoder.\n",
    "        # 2. Build the model decoder.\n",
    "        # 3. Optimize calculation by the dimensions of `mX`.\n",
    "        # !! You may find `scipy.sparse.linalg.svds()` useful.\n",
    "        # !! You may find `scipy.sparse.linalg.eigsh()` useful.\n",
    "\n",
    "        self.vMean = np.mean(mX, axis=0)\n",
    "        mC = mX - self.vMean\n",
    "        \n",
    "        U, S, Vh = sp.sparse.linalg.svds(mC, k=self.d)\n",
    "        self.mUd = U[:, ::-1] * S[::-1]\n",
    "        #===============================================================# \n",
    "        \n",
    "        return self\n",
    "    \n",
    "    def transform(self, mX: np.ndarray) -> np.ndarray:\n",
    "        '''\n",
    "        Applies (Out of sample) encoding\n",
    "        Args:\n",
    "            mX - Input data with shape N x D.\n",
    "        Output:\n",
    "            mZ - Low dimensional representation (embeddings) with shape N x d.\n",
    "        '''\n",
    "        #===========================Fill This===========================#\n",
    "        # 1. Encode data using the model encoder.\n",
    "        # return (mX - np.atleast_1d(self.vMean)) @ self.mUd\n",
    "        \n",
    "        mZ = (mX - np.atleast_1d(self.vMean)) @ self.mUd \n",
    "        #===============================================================#\n",
    "\n",
    "        return mZ\n",
    "    \n",
    "    def inverse_transform(self, mZ: np.ndarray) -> np.ndarray:\n",
    "        '''\n",
    "        Applies (Out of sample) decoding\n",
    "        Args:\n",
    "            mZ - Low dimensional representation (embeddings) with shape N x d.\n",
    "        Output:\n",
    "            mX - Reconstructed data with shape N x D.\n",
    "        '''\n",
    "        #===========================Fill This===========================#\n",
    "        # 1. Encode data using the model decoder.\n",
    "        # return (mZ @ self.mUd.T) + np.atleast_1d(self.vMean)\n",
    "        \n",
    "        mX = (mZ @ self.mUd.T) + np.atleast_1d(self.vMean)\n",
    "        #===============================================================#\n",
    "\n",
    "        return mX\n"
   ]
  },
  {
   "attachments": {},
   "cell_type": "markdown",
   "metadata": {},
   "source": [
    "* <font color='red'>(**?**)</font> In the class we use _out of sample_ encoding / decoding. What if we use the same `mX` for training and the encoding?  \n",
    "Make sure to understand this before proceeding."
   ]
  },
  {
   "attachments": {},
   "cell_type": "markdown",
   "metadata": {},
   "source": [
    "### 3.2. PCA Application\n",
    "\n",
    "In this section the PCA (Using the above class) will be applied on several data sets:\n",
    "\n",
    " * Breast Cancer Dataset - Loaded using `load_breast_cancer()`.\n",
    " * Digits Dataset - Loaded using `load_digits()`.\n",
    " * Iris Dataset - Loaded using `load_iris()`.\n",
    " * Wine Dataset - Loaded using `load_wine()`.\n",
    "\n",
    "For each data set:\n",
    "\n",
    "1. Make yourself familiar with the data set:\n",
    "    * How many features are there ($D$).\n",
    "    * How many samples are there ($N$).\n",
    "    * Do all features have the same unit?\n",
    "2. Apply a Pre Process Step  \n",
    "   In ML, usually, if the features do not have the same unit they are normalized.  \n",
    "   Namely, make each feature with zero mean and unit standard deviation.   \n",
    "   Write a function to normalize input data.\n",
    "3. Apply the PCA  \n",
    "   Set `d` to be visualization friendly and apply PCA from $D$ to $d$.  \n",
    "   The obtained the low dimensional data represents $\\boldsymbol{Z} \\in \\mathbb{R}^{d \\times N}$.\n",
    "4. Plot Low Dimensional Data  \n",
    "   Make a scatter plot of $\\boldsymbol{Z} \\in \\mathbb{R}^{d \\times N}$ and color the data points according to the data labels.  \n",
    "   For each data set show result with the normalization step and without it.\n",
    "5. Calculate Lost Energy  \n",
    "   For each plot, show the value of ${\\left\\| \\tilde{\\boldsymbol{X}} - \\boldsymbol{X} \\right\\|}_{F}^{2}$.  \n",
    "   Do this by applying `inverse_transform()` on the low dimensional data and calculate the norm.\n",
    "\n",
    "\n",
    "* <font color='brown'>(**#**)</font> Pay attention to the difference in dimensions of the data to the derived Math formulations.\n",
    "* <font color='brown'>(**#**)</font> The output should be plots figures for each data set. Show them in a single figure using sub plots."
   ]
  },
  {
   "cell_type": "code",
   "execution_count": 9,
   "metadata": {},
   "outputs": [],
   "source": [
    "#===========================Fill This===========================#\n",
    "# 1. Implement the normalization function.\n",
    "# !! Make sure to address the remark.\n",
    "\n",
    "def NormalizeData(mX: np.ndarray) -> np.ndarray:\n",
    "    '''\n",
    "    Normalize data so each feature has zero mean and unit standard deviation.\n",
    "    Args:\n",
    "        mX  - Input data with shape N x d.\n",
    "    Output:\n",
    "        mY  - Output data with shape N x d.\n",
    "    Remarks:\n",
    "        - Features with zero standard deviation are not scaled (Only centered).\n",
    "    '''\n",
    "\n",
    "    mY = mX.copy()\n",
    "    \n",
    "    # Center the data\n",
    "    mean = np.mean(mX, axis=0)\n",
    "    mY -= mean\n",
    "    \n",
    "    # Scale the data (avoid dividing by zero)\n",
    "    stdev = np.std(mX, axis=0)\n",
    "    nonzero_std = stdev != 0\n",
    "    mY[:, nonzero_std] /= stdev[nonzero_std]\n",
    "\n",
    "    return mY\n",
    "#===============================================================#"
   ]
  },
  {
   "cell_type": "code",
   "execution_count": 12,
   "metadata": {},
   "outputs": [
    {
     "ename": "TypeError",
     "evalue": "unsupported operand type(s) for -: 'float' and 'NoneType'",
     "output_type": "error",
     "traceback": [
      "\u001b[1;31m---------------------------------------------------------------------------\u001b[0m",
      "\u001b[1;31mTypeError\u001b[0m                                 Traceback (most recent call last)",
      "Cell \u001b[1;32mIn[12], line 26\u001b[0m\n\u001b[0;32m     24\u001b[0m \u001b[39m# Apply PCA without normalization\u001b[39;00m\n\u001b[0;32m     25\u001b[0m pca \u001b[39m=\u001b[39m PCA(d)\n\u001b[1;32m---> 26\u001b[0m Z \u001b[39m=\u001b[39m pca\u001b[39m.\u001b[39;49mtransform(X)\n\u001b[0;32m     28\u001b[0m axs[i, \u001b[39m0\u001b[39m]\u001b[39m.\u001b[39mset_title(load_data\u001b[39m.\u001b[39mfunc\u001b[39m.\u001b[39m\u001b[39m__name__\u001b[39m \u001b[39m+\u001b[39m \u001b[39m'\u001b[39m\u001b[39m (not normalized)\u001b[39m\u001b[39m'\u001b[39m)\n\u001b[0;32m     29\u001b[0m axs[i, \u001b[39m0\u001b[39m]\u001b[39m.\u001b[39mscatter(Z[:,\u001b[39m0\u001b[39m], Z[:,\u001b[39m1\u001b[39m], c\u001b[39m=\u001b[39my)\n",
      "Cell \u001b[1;32mIn[8], line 52\u001b[0m, in \u001b[0;36mPCA.transform\u001b[1;34m(self, mX)\u001b[0m\n\u001b[0;32m     41\u001b[0m \u001b[39m'''\u001b[39;00m\n\u001b[0;32m     42\u001b[0m \u001b[39mApplies (Out of sample) encoding\u001b[39;00m\n\u001b[0;32m     43\u001b[0m \u001b[39mArgs:\u001b[39;00m\n\u001b[1;32m   (...)\u001b[0m\n\u001b[0;32m     46\u001b[0m \u001b[39m    mZ - Low dimensional representation (embeddings) with shape N x d.\u001b[39;00m\n\u001b[0;32m     47\u001b[0m \u001b[39m'''\u001b[39;00m\n\u001b[0;32m     48\u001b[0m \u001b[39m#===========================Fill This===========================#\u001b[39;00m\n\u001b[0;32m     49\u001b[0m \u001b[39m# 1. Encode data using the model encoder.\u001b[39;00m\n\u001b[0;32m     50\u001b[0m \u001b[39m# return (mX - np.atleast_1d(self.vMean)) @ self.mUd\u001b[39;00m\n\u001b[1;32m---> 52\u001b[0m mZ \u001b[39m=\u001b[39m (mX \u001b[39m-\u001b[39;49m \u001b[39mself\u001b[39;49m\u001b[39m.\u001b[39;49mvMean) \u001b[39m@\u001b[39m \u001b[39mself\u001b[39m\u001b[39m.\u001b[39mmUd \n\u001b[0;32m     53\u001b[0m \u001b[39m#===============================================================#\u001b[39;00m\n\u001b[0;32m     55\u001b[0m \u001b[39mreturn\u001b[39;00m mZ\n",
      "\u001b[1;31mTypeError\u001b[0m: unsupported operand type(s) for -: 'float' and 'NoneType'"
     ]
    },
    {
     "data": {
      "image/png": "[encoded data removed]",
      "text/plain": [
       "<Figure size 1000x4000 with 8 Axes>"
      ]
     },
     "metadata": {},
     "output_type": "display_data"
    }
   ],
   "source": [
    "#===========================Fill This===========================#\n",
    "# 1. Set parameter `d`.\n",
    "# 2. Load each data set.\n",
    "# 3. Apply PCA to each data set with and without normalization.\n",
    "# 4. Display results as scatter data.\n",
    "# !! The figure should be 2 x numDataSets.\n",
    "\n",
    "from sklearn.datasets import load_breast_cancer, load_digits, load_iris, load_wine\n",
    "\n",
    "# Set parameters\n",
    "d = 2\n",
    "datasets = [load_breast_cancer, load_digits, load_iris, load_wine]\n",
    "\n",
    "# Create figure \n",
    "fig, axs = plt.subplots(nrows=len(datasets), ncols=2, figsize=(10, 40))\n",
    "fig.tight_layout()\n",
    "\n",
    "# Load and process each dataset\n",
    "for i, load_data in enumerate(datasets):\n",
    "\n",
    "  # Load dataset\n",
    "  X, y = load_data(return_X_y=True)\n",
    "  \n",
    "  # Apply PCA without normalization\n",
    "  pca = PCA(d)\n",
    "  Z = pca.transform(X)\n",
    "\n",
    "  axs[i, 0].set_title(load_data.func.__name__ + ' (not normalized)')\n",
    "  axs[i, 0].scatter(Z[:,0], Z[:,1], c=y)\n",
    "\n",
    "  # Apply PCA with normalization \n",
    "  Z_norm = pca.fit_transform(NormalizeData(X))\n",
    "  \n",
    "  axs[i, 1].set_title(load_data.func.__name__ + ' (normalized)')\n",
    "  axs[i, 1].scatter(Z_norm[:,0], Z_norm[:,1], c=y)\n",
    "\n",
    "plt.show()\n",
    "#===============================================================#"
   ]
  },
  {
   "attachments": {},
   "cell_type": "markdown",
   "metadata": {},
   "source": [
    "### 3.3. Question\n",
    "\n",
    "In the above, why does the results of the normalized and non normalized data are different?  \n",
    "Address the geometry of the results and the value of the reconstruction error."
   ]
  },
  {
   "attachments": {},
   "cell_type": "markdown",
   "metadata": {},
   "source": [
    "### 3.3. Solution\n",
    "\n",
    "Geometry of the Results:\n",
    "\n",
    "PCA seeks the directions of maximum variance in the data. When the features have significantly different scales or units, their variances can dominate the principal components. Normalizing the features ensures that they have a similar scale, aiding PCA in capturing the underlying structure more accurately.\n",
    "\n",
    "Reconstruction Error:\n",
    "\n",
    "In the absence of normalization, features with larger variances contribute more to the reconstruction error. This can lead to a distorted representation of the data, as PCA prioritizes capturing the variance of these dominant features. Normalization addresses this issue by ensuring that all features contribute more equally to the reconstruction error, resulting in a more balanced representation of the data.\n",
    "\n",
    "---"
   ]
  },
  {
   "attachments": {},
   "cell_type": "markdown",
   "metadata": {},
   "source": [
    "## 4. Image Denoising\n",
    "\n",
    "In this section the PCA algorithm will be used for denoising images from the [MNIST Dataset](https://en.wikipedia.org/wiki/MNIST_database).  \n",
    "In this section:\n",
    "\n",
    " 1. Load Data  \n",
    "    Load the MNIST data set and sub sample it.  \n",
    "    We'll have a perfectly balanced data set.\n",
    "    The data will be in `mX` and labels in `vY`.  \n",
    "    This is already implemented.\n",
    " 2. Add Noise  \n",
    "    We'll add noise to the data.  \n",
    "    The noise of the data will be modeled as a Poisson Noise (Also known as [_Shot Noise_](https://en.wikipedia.org/wiki/Shot_noise)).  \n",
    "    The _Shot Noise_ is a classic model of noise gathered by imaging sensors.  \n",
    "    This is already implemented.\n",
    " 3. Analyze the Data  \n",
    "    Analyze the spectrum of the data and choose an appropriate ste of parameters for denoising.\n",
    " 3. Apply Denoising  \n",
    "    Apply denoising by utilizing the PCA algorithm.\n",
    " 4. Analyze Result  \n",
    "    Show the results as a function of the parameters."
   ]
  },
  {
   "cell_type": "code",
   "execution_count": null,
   "metadata": {},
   "outputs": [],
   "source": [
    "# Parameters\n",
    "numSamplesClass = 600\n",
    "λ               = 35"
   ]
  },
  {
   "cell_type": "code",
   "execution_count": null,
   "metadata": {},
   "outputs": [],
   "source": [
    "# Load Data\n",
    "# If you get SSL error, uncomment the following 2 lines\n",
    "# import ssl\n",
    "# ssl._create_default_https_context = ssl._create_unverified_context\n",
    "dfX, dfY = fetch_openml(name = 'mnist_784', version = 1, return_X_y = True, as_frame = True, parser = 'auto')\n"
   ]
  },
  {
   "cell_type": "code",
   "execution_count": null,
   "metadata": {},
   "outputs": [],
   "source": [
    "# Sub Sample Data\n",
    "dfData = pd.concat((dfX, dfY), axis = 1)\n",
    "\n",
    "# Balanced Sub Sample\n",
    "# End Result: 'numSamplesClass' samples per digit\n",
    "dfData = BalancedSubSample(dfData, 'class', numSamplesClass)\n",
    "vY = dfData['class'].to_numpy(dtype = np.uint8)\n",
    "mX = dfData.drop(columns = ['class']).to_numpy()"
   ]
  },
  {
   "cell_type": "code",
   "execution_count": null,
   "metadata": {},
   "outputs": [],
   "source": [
    "# Add Poisson Noise\n",
    "mN = np.random.poisson(λ, size = mX.shape) #<! Noise samples"
   ]
  },
  {
   "cell_type": "code",
   "execution_count": null,
   "metadata": {},
   "outputs": [],
   "source": [
    "# Add Noise\n",
    "# Make sure values are in {0, 1, 2, ..., 255} range\n",
    "mXRef = mX.copy() #<! Reference with no noise\n",
    "mXRef = mXRef / 255\n",
    "\n",
    "mX += mN\n",
    "mX = np.minimum(mX, 255)\n"
   ]
  },
  {
   "cell_type": "code",
   "execution_count": null,
   "metadata": {},
   "outputs": [],
   "source": [
    "# Show Samples\n",
    "\n",
    "lIdx = [np.flatnonzero(vY == ii)[0] for ii in range(10)]\n",
    "\n",
    "_, mHA = plt.subplots(1, 10, figsize = (16, 4))\n",
    "for ii, hA in enumerate(mHA.flat):\n",
    "    idx = lIdx[ii]\n",
    "    mI  = np.reshape(mX[idx], T_MNIST_IMG_SIZE)\n",
    "    # mI  = np.clip(mI, 0, 1)\n",
    "    hA.imshow(mI, cmap = 'gray')\n",
    "    hA.axis('off')\n",
    "    \n",
    "plt.tight_layout()\n",
    "plt.show()"
   ]
  },
  {
   "attachments": {},
   "cell_type": "markdown",
   "metadata": {},
   "source": [
    "### 4.1. The Data Spectrum\n",
    "\n",
    "In this section:\n",
    "\n",
    " 1. Pre Process the data (Optional).  \n",
    "    Do this step if you think it is needed.\n",
    " 2. Plot the Spectrum of the Eigen Values of the data.\n",
    " 3. Choose **a range** (5 values) of `d` for the low dimensionality reduction.\n",
    " 4. For each `d` value, calculate the **relative energy loss**.\n"
   ]
  },
  {
   "cell_type": "code",
   "execution_count": null,
   "metadata": {},
   "outputs": [],
   "source": [
    "#===========================Fill This===========================#\n",
    "# 1. Pre Process Data (Optional).\n",
    "# !! Make sure to keep the name of the data `mX`.\n",
    "# !! Don't change the order of the data so it matches `vY`.\n",
    "\n",
    "mX = NormalizeData(mX)\n",
    "\n",
    "#===============================================================#"
   ]
  },
  {
   "cell_type": "code",
   "execution_count": null,
   "metadata": {},
   "outputs": [],
   "source": [
    "#===========================Fill This===========================#\n",
    "# 1. Calculate the spectrum of the Eigen Values of the data.\n",
    "\n",
    "Ex = mX @ mX.T\n",
    "eigen_values = np.linalg.eigvalsh(Ex)[::-1]\n",
    "eigen_values_normalized = 1/ np.trace(Ex) * eigen_values\n",
    "\n",
    "#===============================================================#"
   ]
  },
  {
   "cell_type": "code",
   "execution_count": null,
   "metadata": {},
   "outputs": [],
   "source": [
    "#===========================Fill This===========================#\n",
    "# 1. Display the Spectrum.\n",
    "# !! You may show both the spectrum and the relative energy.\n",
    "\n",
    "plt.stem(eigen_values_normalized[:100])\n",
    "plt.title('Eigen Values')\n",
    "plt.xlabel('$\\lambda_i$ index')\n",
    "plt.ylabel('Value')\n",
    "\n",
    "#===============================================================#"
   ]
  },
  {
   "cell_type": "code",
   "execution_count": null,
   "metadata": {},
   "outputs": [],
   "source": [
    "#===========================Fill This===========================#\n",
    "# 1. Choose a range of `d` values.\n",
    "# 2. Per `d` plot / display the relative energy loss.\n",
    "# !! Don't choose too many, keep running time and visualization reasonable.\n",
    "# !! The choice should be in order to show the effect of `d` on the results and not only the optimal `d`.\n",
    "\n",
    "d_range = [10, 20, 40, 50, 100]\n",
    "relative_energy_losses = [np.sum(eigen_values_normalized[d:]) for d in d_range]\n",
    "plt.bar(d_range, relative_energy_losses)\n",
    "plt.title('Relative Energy Loss as function of d')\n",
    "plt.xlabel('d')\n",
    "plt.xticks(d_range)\n",
    "plt.ylabel('Relative Energy Loss')\n",
    "plt.show()\n",
    "\n",
    "#===============================================================#"
   ]
  },
  {
   "attachments": {},
   "cell_type": "markdown",
   "metadata": {},
   "source": [
    "### 4.2. PCA Based Denoising\n",
    "\n",
    "In this section, per `d` value:\n",
    "\n",
    " 1. Build the _Encoder_ and _Decoder_. \n",
    " 2. Denoise the images listed in the index list `lIdx`.\n",
    " 3. Show results per `d`\n",
    "      * For each image show the reconstruction error vs. the noisy sample (`mX`).\n",
    "      * For each image show the estimation error vs. the non noisy sample (`mXRef`).\n",
    "\n",
    "* <font color='brown'>(**#**)</font> Make sure when you use the whole data (`mX`) and when the sub set to analyze.\n",
    "* <font color='brown'>(**#**)</font> For the PCA you may only use `mX`.\n",
    "* <font color='brown'>(**#**)</font> The output should be the 10 images per row where the number of rows is the number of `d` values + 2 (For the reference / noisy images)."
   ]
  },
  {
   "cell_type": "code",
   "execution_count": null,
   "metadata": {},
   "outputs": [],
   "source": [
    "#===========================Fill This===========================#\n",
    "# 1. Build the encoder / decoder using the `PCA` class above.\n",
    "# 2. Per `d` denoise the images in `lIdx`.\n",
    "# !! Only use `mX` for the PCA step.\n",
    "\n",
    "def encode_decode(mx, d):\n",
    "    pca = PCA(d)\n",
    "    pca.fit(mx)\n",
    "    mZ = pca.transform(mx)\n",
    "    return pca.inverse_transform(mZ)\n",
    "    \n",
    "\n",
    "\n",
    "#===============================================================#"
   ]
  },
  {
   "cell_type": "code",
   "execution_count": null,
   "metadata": {},
   "outputs": [],
   "source": [
    "#===========================Fill This===========================#\n",
    "# 1. Create a subplot of `len(d) + 2 x 10` plots.\n",
    "# 2. In the 1st row, show the clean images (`mXRef`).\n",
    "# 3. In the 2nd row, show the noisy images (`mX`).\n",
    "# 4. In the next rows show the sample per different `d`.  \n",
    "#    Per row, show `d`.\n",
    "\n",
    "def plot_row(mx_in, title):\n",
    "    fig, axes = plt.subplots(1, 10, figsize=(16, 4))\n",
    "    fig.suptitle(title, font='serif', fontsize=30)\n",
    "    \n",
    "    for idx, ax in enumerate(axes.flat):\n",
    "        image = np.reshape(mx_in[idx], T_MNIST_IMG_SIZE)\n",
    "        ax.imshow(image, cmap='gray')\n",
    "        ax.axis('off')\n",
    "\n",
    "# Create a list of indices for each digit (0 to 9)\n",
    "digit_indices = [np.flatnonzero(vY == digit)[0] for digit in range(10)]\n",
    "\n",
    "# Plot clean images\n",
    "plot_row(mXRef, 'Clean Images')\n",
    "\n",
    "# Plot noisy images\n",
    "plot_row(mX, 'Noisy Images')\n",
    "\n",
    "# Plot samples per different d\n",
    "for d in d_range:\n",
    "    plot_row(encode_decode(mX, d), f'd={d}')\n",
    "\n",
    "plt.show()\n",
    "\n",
    "#===============================================================#"
   ]
  },
  {
   "cell_type": "code",
   "execution_count": null,
   "metadata": {},
   "outputs": [],
   "source": [
    "#===========================Fill This===========================#\n",
    "# 1. Create 2 sub plots where the `x` is the image index {0, 1, ..., 9}.\n",
    "# 2. The 1st plot, per `d`, shows the reconstruction error.\n",
    "# 3. The 2nd plot, per `d`, shows the estimation error.\n",
    "\n",
    "def get_error(mx_in, mx_ref, num):\n",
    "    return np.linalg.norm(mx_in[vY == num, :].flatten() - mx_ref[vY == num, :].flatten())\n",
    "\n",
    "# Data\n",
    "normalized_ref = NormalizeData(mXRef)\n",
    "post_pca_mats = [encode_decode(mX, d) for d in d_range]\n",
    "\n",
    "# Calculate reconstruction errors and estimation errors\n",
    "rec_errors = [[get_error(post_pca_mats[j], mX, i) for j in range(len(d_range))] for i in range(10)]\n",
    "est_errors = [[get_error(post_pca_mats[j], normalized_ref, i) for j in range(len(d_range))] for i in range(10)]\n",
    "\n",
    "# Plotting\n",
    "def plot_errors(rec_error, est_error):\n",
    "    fig, axes = plt.subplots(2, 1, figsize=(10, 15))\n",
    "    \n",
    "    rec_error_df = pd.DataFrame(rec_error, columns=d_range)\n",
    "    rec_error_df.plot.bar(ax=axes[0], rot=0)\n",
    "    \n",
    "    est_error_df = pd.DataFrame(est_error, columns=d_range)\n",
    "    est_error_df.plot.bar(ax=axes[1], rot=0)\n",
    "    \n",
    "    axes[0].set_title('Reconstruction Error')\n",
    "    axes[1].set_title('Estimation Error')\n",
    "    axes[0].set_ylabel('Error')\n",
    "    axes[1].set_ylabel('Error')\n",
    "    axes[1].set_xlabel('Image Index')\n",
    "    axes[0].set_xlabel('Image Index')\n",
    "    \n",
    "    plt.tight_layout()\n",
    "    plt.show()\n",
    "\n",
    "plot_errors(rec_errors, est_errors)\n",
    "\n",
    "#===============================================================#"
   ]
  },
  {
   "attachments": {},
   "cell_type": "markdown",
   "metadata": {},
   "source": [
    "### 4.3. Question\n",
    "\n",
    "Address the following remarks:\n",
    "\n",
    " - How does the noise model effect the performance of the denoising?  \n",
    "   Specifically, if the noise model was Gaussian with the same variance, what would change?\n",
    " - Would you use the reconstruction error as an estimation of the estimation error?  \n",
    "   Answer in general and specifically for Images.\n",
    " - Explain the idea behind the PCA denoising.  \n",
    "   Specifically address the trade off between small and large values of `d`.\n",
    " - If the data was 1D (Audio instead of Image), would you expect it to perform better?  \n",
    "   Think if the model has any knowledge about the data being 2D."
   ]
  },
  {
   "attachments": {},
   "cell_type": "markdown",
   "metadata": {},
   "source": [
    "### 4.3. Solution\n",
    "\n",
    "Effect of Noise Model: If the noise model were Gaussian with the same variance, the performance of PCA denoising would likely improve. PCA assumes that the data follows a Gaussian distribution, so if the noise also follows a Gaussian distribution with the same variance, it aligns better with PCA's assumptions.\n",
    "\n",
    "Reconstruction Error vs. Estimation Error: The reconstruction error is not a reliable estimation of the estimation error. The relationship between them is not linear and hard to predict. As we increase the d in PCA denoising, the reconstruction error decreases, but the estimation error depends on how effectively noise is removed, which can vary with d inversely.\n",
    "\n",
    "PCA Denoising Idea: PCA denoising aims to reduce data dimensionality and then reconstruct it from the reduced dimensions. The trade-off with d is that smaller values of d may lead to information loss, while larger values of d increase computational complexity.\n",
    "\n",
    "1D Data vs. 2D Data: PCA denoising performance may not significantly differ between 1D and 2D data if the model has no prior knowledge about the data's structure. The key factor is whether PCA captures the relevant features and structure of the data, irrespective of its dimensionality.\n",
    "\n",
    "---"
   ]
  },
  {
   "attachments": {},
   "cell_type": "markdown",
   "metadata": {},
   "source": [
    "### 4.4. PCA Denoising with Labels\n",
    "\n",
    "In the above we used no knowledge on the label of the image.  \n",
    "In this section you should use the labels information in order to improve results.\n",
    "\n",
    " 1. Write a code which take advantage of the labels `vY` (Be creative).\n",
    " 2. Show the plots of the reconstruction and estimation error.\n",
    " 3. Explain, in words, your idea.\n",
    " 4. Explain, in words, the results."
   ]
  },
  {
   "cell_type": "code",
   "execution_count": null,
   "metadata": {},
   "outputs": [],
   "source": [
    "#===========================Fill This===========================#\n",
    "# 1. Choose the maximum `d` used in the previous section.\n",
    "# 2. Apply PCA Denoising on the list of images.\n",
    "\n",
    "MAX_D = d_range[-1]\n",
    "def create_num_pca_model(i):\n",
    "    pca = PCA(d=MAX_D)\n",
    "    pca.fit(mX[vY == i , :])\n",
    "    return pca\n",
    "\n",
    "\n",
    "pca_models = {i: create_num_pca_model(i) for i in range(10)}\n",
    "mx_sup_pca = mX.copy()\n",
    "for num_sample in range(mX.shape[0]):\n",
    "    encoded_sample = pca_models[vY[num_sample]].transform(mx_sup_pca[num_sample, :].reshape(1, -1))\n",
    "    mx_sup_pca[num_sample, :] = pca_models[vY[num_sample]].inverse_transform(encoded_sample)\n",
    "\n",
    "\n",
    "rec_errors = [get_error(mx_sup_pca, mX, i)  for i in range(10)]\n",
    "\n",
    "est_errors = [get_error(mx_sup_pca, normalized_ref, i)  for i in range(10)]\n",
    "\n",
    "#===============================================================#"
   ]
  },
  {
   "cell_type": "code",
   "execution_count": null,
   "metadata": {},
   "outputs": [],
   "source": [
    "#===========================Fill This===========================#\n",
    "# 1. Display the reconstruction and estimation error per image.\n",
    "# 2. Compare to the previous result for the same `d`.\n",
    "\n",
    "axes = plt.subplots(2, 1, figsize=(10, 20))[1]\n",
    "axes[0].bar(range(10), rec_errors)\n",
    "axes[1].bar(range(10), est_errors)\n",
    "axes[0].set_title('Reconstruction Error')\n",
    "axes[1].set_title('Estimation Error')\n",
    "axes[0].set_ylabel('Error')\n",
    "axes[1].set_ylabel('Error')\n",
    "axes[1].set_xlabel('Image Index')\n",
    "axes[0].set_xlabel('Image Index')\n",
    "plt.show()\n",
    "\n",
    "#===============================================================#"
   ]
  },
  {
   "attachments": {},
   "cell_type": "markdown",
   "metadata": {},
   "source": [
    "### 4.4.3. Solution\n",
    "\n",
    "The concept here is to utilize labels to identify the closest image to the clean images. In essence, we aim to construct an encoder that captures the genuine data structure while filtering out noise. To achieve this, we follow these steps:\n",
    "\n",
    "Fit a PCA (Principal Component Analysis) model for each numerical label. This allows us to understand the underlying structure of the data associated with each digit.\n",
    "\n",
    "For each noisy image, apply the PCA model that corresponds to its label. This encoding and decoding process helps generate an image that closely resembles the clean image, effectively removing the noise and preserving the true data structure.\n",
    "\n",
    "---"
   ]
  },
  {
   "attachments": {},
   "cell_type": "markdown",
   "metadata": {},
   "source": [
    "### 4.4.4. Solution\n",
    "\n",
    "As anticipated, employing labels to tailor the PCA models yields superior outcomes. Both the reconstruction error and estimation error are significantly reduced. While there are instances where a generalized model may be preferable to mitigate overfitting, in scenarios like image denoising, especially with a sufficient number of samples, it proves advantageous to construct a distinct model for each label. This approach enables us to capture the authentic structure of each numeral more accurately, leading to enhanced denoising results.\n",
    "\n",
    "---"
   ]
  },
  {
   "cell_type": "code",
   "execution_count": null,
   "metadata": {},
   "outputs": [],
   "source": [
    "# Run Time\n",
    "# Check Total Run Time.\n",
    "# Don't change this!\n",
    "\n",
    "endTime = time.time()\n",
    "\n",
    "totalRunTime = endTime - startTime\n",
    "print(f'Total Run Time: {totalRunTime} [Sec].')\n",
    "\n",
    "if (totalRunTime > TOTAL_RUN_TIME):\n",
    "    raise ValueError(f'You have exceeded the allowed run time as {totalRunTime} > {TOTAL_RUN_TIME}')"
   ]
  }
 ],
 "metadata": {
  "kernelspec": {
   "display_name": "Python 3",
   "language": "python",
   "name": "python3"
  },
  "language_info": {
   "codemirror_mode": {
    "name": "ipython",
    "version": 3
   },
   "file_extension": ".py",
   "mimetype": "text/x-python",
   "name": "python",
   "nbconvert_exporter": "python",
   "pygments_lexer": "ipython3",
   "version": "3.10.9"
  },
  "toc": {
   "base_numbering": 1,
   "nav_menu": {},
   "number_sections": false,
   "sideBar": true,
   "skip_h1_title": false,
   "title_cell": "Table of Contents",
   "title_sidebar": "Contents",
   "toc_cell": false,
   "toc_position": {},
   "toc_section_display": true,
   "toc_window_display": true
  },
  "varInspector": {
   "cols": {
    "lenName": 16,
    "lenType": 16,
    "lenVar": 40
   },
   "kernels_config": {
    "python": {
     "delete_cmd_postfix": "",
     "delete_cmd_prefix": "del ",
     "library": "var_list.py",
     "varRefreshCmd": "print(var_dic_list())"
    },
    "r": {
     "delete_cmd_postfix": ") ",
     "delete_cmd_prefix": "rm(",
     "library": "var_list.r",
     "varRefreshCmd": "cat(var_dic_list()) "
    }
   },
   "types_to_exclude": [
    "module",
    "function",
    "builtin_function_or_method",
    "instance",
    "_Feature"
   ],
   "window_display": false
  },
  "vscode": {
   "interpreter": {
    "hash": "39577bab1f263e62e0b74f5b8086bd735049bf4751f6562b2d4b2969dc308293"
   }
  }
 },
 "nbformat": 4,
 "nbformat_minor": 4
}
